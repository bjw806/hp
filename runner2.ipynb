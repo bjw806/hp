{
 "cells": [
  {
   "cell_type": "code",
   "execution_count": 1,
   "id": "initial_id",
   "metadata": {
    "ExecuteTime": {
     "end_time": "2024-03-14T06:30:53.295303400Z",
     "start_time": "2024-03-14T06:30:47.841350100Z"
    }
   },
   "outputs": [
    {
     "name": "stderr",
     "output_type": "stream",
     "text": [
      "\u001b[38;20m[skrl:INFO] Seed: 42\u001b[0m\n"
     ]
    }
   ],
   "source": [
    "import gymnasium as gym\n",
    "import torch\n",
    "import torch.nn as nn\n",
    "from skrl.envs.wrappers.torch import wrap_env\n",
    "from skrl.memories.torch import RandomMemory\n",
    "from skrl.models.torch import DeterministicMixin, Model, MultiCategoricalMixin\n",
    "from skrl.trainers.torch import ParallelTrainer\n",
    "from skrl.utils import set_seed\n",
    "from torch.nn import TransformerEncoder, TransformerEncoderLayer\n",
    "\n",
    "from preprocess import preprocess\n",
    "from skrl.utils.spaces.torch import unflatten_tensorized_space\n",
    "\n",
    "set_seed(42)\n",
    "\n",
    "gym.register(\n",
    "    id=\"MultiDatasetDiscretedTradingEnv\",\n",
    "    entry_point=\"only_features_env:MultiDatasetDiscretedTradingEnv\",\n",
    "    disable_env_checker=True,\n",
    ")"
   ]
  },
  {
   "cell_type": "code",
   "execution_count": 2,
   "id": "97f95c0e",
   "metadata": {},
   "outputs": [],
   "source": [
    "env_cfg = dict(\n",
    "    id=\"MultiDatasetDiscretedTradingEnv\",\n",
    "    dataset_dir=\"./data/train/month_15m/**/**/*.pkl\",\n",
    "    preprocess=preprocess,\n",
    "    positions=[-1, 0, 1],\n",
    "    multiplier=[1, 2, 5],\n",
    "    trading_fees=0.01,\n",
    "    borrow_interest_rate=0.03,\n",
    "    portfolio_initial_value=1000,\n",
    "    max_episode_duration=\"max\",\n",
    "    verbose=1,\n",
    "    window_size=60,\n",
    ")"
   ]
  },
  {
   "cell_type": "code",
   "execution_count": 3,
   "id": "3a91dbf0",
   "metadata": {},
   "outputs": [
    {
     "name": "stderr",
     "output_type": "stream",
     "text": [
      "\u001b[38;20m[skrl:INFO] Environment wrapper: gymnasium\u001b[0m\n",
      "\u001b[33;20m[skrl:WARNING] Failed to check for a vectorized environment: module 'gymnasium.experimental' has no attribute 'vector'\u001b[0m\n"
     ]
    }
   ],
   "source": [
    "env = gym.make(**env_cfg)\n",
    "obs = env.observation_space\n",
    "env = wrap_env(env, wrapper=\"gymnasium\")"
   ]
  },
  {
   "cell_type": "code",
   "execution_count": 4,
   "id": "3eb84657",
   "metadata": {},
   "outputs": [],
   "source": [
    "device = env.device\n",
    "replay_buffer_size = 1024 * 8 * env.num_envs\n",
    "memory_size = int(replay_buffer_size / env.num_envs)\n",
    "memory = RandomMemory(memory_size=memory_size, num_envs=env.num_envs, device=device, replacement=False)"
   ]
  },
  {
   "cell_type": "code",
   "execution_count": 5,
   "id": "2f0269f2",
   "metadata": {},
   "outputs": [],
   "source": [
    "class LearnablePositionalEncoding(nn.Module):\n",
    "    def __init__(self, d_model, max_len=5000):\n",
    "        super().__init__()\n",
    "        self.position_embedding = nn.Embedding(max_len, d_model)\n",
    "\n",
    "    def forward(self, x):\n",
    "        batch_size, seq_len, _ = x.size()\n",
    "        positions = torch.arange(0, seq_len, device=x.device).unsqueeze(0)\n",
    "        positions = positions.expand(batch_size, seq_len)\n",
    "        position_encoded = self.position_embedding(positions)\n",
    "        return x + position_encoded\n",
    "\n",
    "\n",
    "class SharedNoFC(MultiCategoricalMixin, DeterministicMixin, Model):\n",
    "    def __init__(\n",
    "        self,\n",
    "        observation_space,\n",
    "        action_space,\n",
    "        device,\n",
    "        clip_actions=False,\n",
    "        unnormalized_log_prob=True,\n",
    "        reduction=\"sum\",\n",
    "    ):\n",
    "        Model.__init__(self, observation_space, action_space, device)\n",
    "        MultiCategoricalMixin.__init__(self, unnormalized_log_prob, reduction)\n",
    "        DeterministicMixin.__init__(self, clip_actions)\n",
    "        \n",
    "        self._shared_features = None\n",
    "        self.net_projection = nn.Sequential(\n",
    "            nn.Conv1d(7, 8, kernel_size=1, padding=1),\n",
    "        )\n",
    "\n",
    "        # Transformer Encoder for self-attention\n",
    "        transformer_layer = TransformerEncoderLayer(\n",
    "            d_model=8,  # The size of the input feature vector\n",
    "            nhead=4,      # Number of attention heads\n",
    "            dim_feedforward=256,  # The size of the feedforward network in the encoder\n",
    "            dropout=0.1,\n",
    "            batch_first=True  # Use batch_first for better inference performance\n",
    "        )\n",
    "        self.positional_encoding = LearnablePositionalEncoding(d_model=8)\n",
    "        self.transformer_encoder = TransformerEncoder(transformer_layer, num_layers=2)\n",
    "\n",
    "        # Output heads using Conv1d with additional layers to capture interactions\n",
    "        self.policy_head = nn.Sequential(\n",
    "            # nn.Conv1d(8, 16, kernel_size=3, padding=1),\n",
    "            # nn.ReLU(),\n",
    "            nn.Conv1d(8, self.num_actions, kernel_size=1), # 7 = seq_length\n",
    "            nn.AdaptiveAvgPool1d(1)  # 마지막에 시퀀스 길이를 1로 줄임\n",
    "        )\n",
    "        self.value_head = nn.Sequential(\n",
    "            # nn.Conv1d(8, 16, kernel_size=3, padding=1),\n",
    "            # nn.ReLU(),\n",
    "            nn.Conv1d(8, 1, kernel_size=1),\n",
    "            nn.AdaptiveAvgPool1d(1)\n",
    "        )\n",
    "\n",
    "    def act(self, inputs, role):\n",
    "        if role == \"policy\":\n",
    "            return MultiCategoricalMixin.act(self, inputs, role)\n",
    "        elif role == \"value\":\n",
    "            return DeterministicMixin.act(self, inputs, role)\n",
    "\n",
    "    def compute(self, inputs, role):\n",
    "        states = unflatten_tensorized_space(obs, inputs[\"states\"])\n",
    "\n",
    "        if role == \"policy\":\n",
    "            features = states.permute(0, 2, 1)\n",
    "            features = self.net_projection(features)\n",
    "            features = self.positional_encoding(features.permute(0, 2, 1)) # torch.Size([32, 7, 128])\n",
    "            features = features + self.transformer_encoder(features) # torch.Size([32, 7, 128])\n",
    "\n",
    "            self._shared_features = features.permute(0, 2, 1) # torch.Size([32, 128, 7])\n",
    "            actions = self.policy_head(self._shared_features) # torch.Size([32, 5, 1])\n",
    "            # print(actions)\n",
    "            return actions.squeeze(-1), {} # torch.Size([32, 5])\n",
    "            \n",
    "        elif role == \"value\":\n",
    "            if self._shared_features is None:\n",
    "                features = states.permute(0, 2, 1)\n",
    "                features = self.net_projection(features)\n",
    "                features = self.positional_encoding(features.permute(0, 2, 1))\n",
    "                features = features + self.transformer_encoder(features)\n",
    "\n",
    "                shared_features = features.permute(0, 2, 1)\n",
    "            else:\n",
    "                shared_features = self._shared_features\n",
    "\n",
    "            self._shared_output = None\n",
    "\n",
    "            value = self.value_head(shared_features)\n",
    "            return value.squeeze(-1), {}"
   ]
  },
  {
   "cell_type": "code",
   "execution_count": 6,
   "id": "f557769b",
   "metadata": {},
   "outputs": [],
   "source": [
    "models = {}\n",
    "models[\"policy\"] = SharedNoFC(env.observation_space, env.action_space, device)\n",
    "models[\"value\"] = models[\"policy\"]\n",
    "\n",
    "for model in models.values():\n",
    "    model.init_parameters(method_name=\"normal_\", mean=0.0, std=0.1)"
   ]
  },
  {
   "cell_type": "code",
   "execution_count": 7,
   "id": "937d3fe4",
   "metadata": {},
   "outputs": [],
   "source": [
    "from skrl.agents.torch.ppo import PPO_DEFAULT_CONFIG\n",
    "from skrl.resources.schedulers.torch import KLAdaptiveLR\n",
    "\n",
    "cfg = PPO_DEFAULT_CONFIG.copy()\n",
    "cfg[\"rollouts\"] = memory_size\n",
    "cfg[\"learning_epochs\"] = 32\n",
    "cfg[\"mini_batches\"] = 16\n",
    "cfg[\"discount_factor\"] = 0.99\n",
    "cfg[\"learning_rate\"] = 5e-4\n",
    "cfg[\"learning_rate_scheduler\"] = KLAdaptiveLR\n",
    "cfg[\"learning_rate_scheduler_kwargs\"] = {\"kl_threshold\": 0.01, \"min_lr\": 1e-7}\n",
    "\n",
    "cfg[\"experiment\"][\"write_interval\"] = 5000\n",
    "cfg[\"experiment\"][\"checkpoint_interval\"] = 100000\n",
    "cfg[\"experiment\"][\"directory\"] = \"runs/torch/mddt\""
   ]
  },
  {
   "cell_type": "code",
   "execution_count": null,
   "id": "92829202",
   "metadata": {},
   "outputs": [],
   "source": [
    "import warnings\n",
    "from skrl.agents.torch.ppo import PPO\n",
    "\n",
    "warnings.simplefilter(action='ignore', category=FutureWarning)\n",
    "warnings.simplefilter(action='ignore', category=DeprecationWarning)\n",
    "\n",
    "agent = PPO(\n",
    "    models=models,\n",
    "    memory=memory,\n",
    "    cfg=cfg,\n",
    "    observation_space=env.observation_space,\n",
    "    action_space=env.action_space,\n",
    "    device=device,\n",
    ")\n",
    "path = \"24-12-04_13-40-56-176824_PPO\"\n",
    "agent.load(f\"/home/pitin/Desktop/hp/runs/torch/mddt/{path}/checkpoints/best_agent.pt\")\n",
    "cfg_trainer = {\"timesteps\": 10000000, \"headless\": True, \"environment_info\": \"pc_counter\"}\n",
    "trainer = ParallelTrainer(cfg=cfg_trainer, env=env, agents=[agent])"
   ]
  },
  {
   "cell_type": "code",
   "execution_count": null,
   "id": "c4d700cc",
   "metadata": {},
   "outputs": [],
   "source": [
    "states, infos = env.reset()\n",
    "timestep = 0\n",
    "timesteps = 3000\n",
    "terminated = torch.tensor([[False] * env.num_envs])\n",
    "\n",
    "# while (not terminated.any()):\n",
    "for _ in range(1000):\n",
    "    agent.pre_interaction(timestep=timestep, timesteps=timesteps)\n",
    "\n",
    "    with torch.no_grad():\n",
    "        actions = agent.act(states, timestep=timestep, timesteps=timesteps)[0]\n",
    "        next_states, rewards, terminated, truncated, infos = env.step(actions)\n",
    "        env.render()\n",
    "\n",
    "    super(type(agent), agent).post_interaction(timestep=timestep, timesteps=timesteps)\n",
    "\n",
    "    if env.num_envs > 1:\n",
    "        states = next_states\n",
    "    else:\n",
    "        if terminated.any() or truncated.any():\n",
    "            with torch.no_grad():\n",
    "                states, infos = env.reset()\n",
    "        else:\n",
    "            states = next_states\n",
    "\n",
    "env.save_for_render()"
   ]
  }
 ],
 "metadata": {
  "kernelspec": {
   "display_name": ".venv",
   "language": "python",
   "name": "python3"
  },
  "language_info": {
   "codemirror_mode": {
    "name": "ipython",
    "version": 3
   },
   "file_extension": ".py",
   "mimetype": "text/x-python",
   "name": "python",
   "nbconvert_exporter": "python",
   "pygments_lexer": "ipython3",
   "version": "3.10.12"
  }
 },
 "nbformat": 4,
 "nbformat_minor": 5
}
