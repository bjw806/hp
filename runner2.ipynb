{
 "cells": [
  {
   "cell_type": "code",
   "execution_count": 1,
   "id": "initial_id",
   "metadata": {
    "ExecuteTime": {
     "end_time": "2024-03-14T06:30:53.295303400Z",
     "start_time": "2024-03-14T06:30:47.841350100Z"
    }
   },
   "outputs": [
    {
     "name": "stderr",
     "output_type": "stream",
     "text": [
      "\u001b[38;20m[skrl:INFO] Seed: 42\u001b[0m\n"
     ]
    }
   ],
   "source": [
    "import gymnasium as gym\n",
    "import torch\n",
    "import torch.nn as nn\n",
    "from skrl.envs.wrappers.torch import wrap_env\n",
    "from skrl.memories.torch import RandomMemory\n",
    "from skrl.models.torch import DeterministicMixin, Model, MultiCategoricalMixin\n",
    "from skrl.trainers.torch import ParallelTrainer\n",
    "from skrl.utils import set_seed\n",
    "from torch.nn import TransformerEncoder, TransformerEncoderLayer\n",
    "\n",
    "from preprocess import preprocess\n",
    "from skrl.utils.spaces.torch import unflatten_tensorized_space\n",
    "\n",
    "set_seed(42)\n",
    "\n",
    "gym.register(\n",
    "    id=\"MultiDatasetDiscretedTradingEnv\",\n",
    "    entry_point=\"only_features_env:MultiDatasetDiscretedTradingEnv\",\n",
    "    disable_env_checker=True,\n",
    ")"
   ]
  },
  {
   "cell_type": "code",
   "execution_count": 2,
   "id": "97f95c0e",
   "metadata": {},
   "outputs": [],
   "source": [
    "env_cfg = dict(\n",
    "    id=\"MultiDatasetDiscretedTradingEnv\",\n",
    "    dataset_dir=\"./data/train/month_15m/**/**/*.pkl\",\n",
    "    preprocess=preprocess,\n",
    "    positions=[-1, 1],\n",
    "    multiplier=[1, 2, 5],\n",
    "    trading_fees=0.01,\n",
    "    borrow_interest_rate=0.03,\n",
    "    portfolio_initial_value=1000,\n",
    "    max_episode_duration=\"max\",\n",
    "    verbose=1,\n",
    "    window_size=60,\n",
    ")"
   ]
  },
  {
   "cell_type": "code",
   "execution_count": 3,
   "id": "3a91dbf0",
   "metadata": {},
   "outputs": [
    {
     "name": "stderr",
     "output_type": "stream",
     "text": [
      "\u001b[38;20m[skrl:INFO] Environment wrapper: gymnasium\u001b[0m\n",
      "\u001b[33;20m[skrl:WARNING] Failed to check for a vectorized environment: module 'gymnasium.experimental' has no attribute 'vector'\u001b[0m\n"
     ]
    }
   ],
   "source": [
    "env = gym.make(**env_cfg)\n",
    "obs = env.observation_space\n",
    "env = wrap_env(env, wrapper=\"gymnasium\")"
   ]
  },
  {
   "cell_type": "code",
   "execution_count": 4,
   "id": "3eb84657",
   "metadata": {},
   "outputs": [],
   "source": [
    "device = env.device\n",
    "replay_buffer_size = 1024 * 8 * env.num_envs\n",
    "memory_size = int(replay_buffer_size / env.num_envs)\n",
    "memory = RandomMemory(memory_size=memory_size, num_envs=env.num_envs, device=device, replacement=False)"
   ]
  },
  {
   "cell_type": "code",
   "execution_count": 5,
   "id": "2f0269f2",
   "metadata": {},
   "outputs": [],
   "source": [
    "class LearnablePositionalEncoding(nn.Module):\n",
    "    def __init__(self, d_model, max_len=5000):\n",
    "        super().__init__()\n",
    "        self.position_embedding = nn.Embedding(max_len, d_model)\n",
    "\n",
    "    def forward(self, x):\n",
    "        batch_size, seq_len, _ = x.size()\n",
    "        positions = torch.arange(0, seq_len, device=x.device).unsqueeze(0)\n",
    "        positions = positions.expand(batch_size, seq_len)\n",
    "        position_encoded = self.position_embedding(positions)\n",
    "        return x + position_encoded\n",
    "\n",
    "\n",
    "class SharedNoFC(MultiCategoricalMixin, DeterministicMixin, Model):\n",
    "    def __init__(\n",
    "        self,\n",
    "        observation_space,\n",
    "        action_space,\n",
    "        device,\n",
    "        clip_actions=False,\n",
    "        unnormalized_log_prob=True,\n",
    "        reduction=\"sum\",\n",
    "    ):\n",
    "        Model.__init__(self, observation_space, action_space, device)\n",
    "        MultiCategoricalMixin.__init__(self, unnormalized_log_prob, reduction)\n",
    "        DeterministicMixin.__init__(self, clip_actions)\n",
    "        \n",
    "        self._shared_features = None\n",
    "        self.net_projection = nn.Sequential(\n",
    "            nn.Conv1d(7, 8, kernel_size=1, padding=1),\n",
    "        )\n",
    "\n",
    "        # Transformer Encoder for self-attention\n",
    "        transformer_layer = TransformerEncoderLayer(\n",
    "            d_model=8,  # The size of the input feature vector\n",
    "            nhead=4,      # Number of attention heads\n",
    "            dim_feedforward=256,  # The size of the feedforward network in the encoder\n",
    "            dropout=0.1,\n",
    "            batch_first=True  # Use batch_first for better inference performance\n",
    "        )\n",
    "        self.positional_encoding = LearnablePositionalEncoding(d_model=8)\n",
    "        self.transformer_encoder = TransformerEncoder(transformer_layer, num_layers=2)\n",
    "\n",
    "        # Output heads using Conv1d with additional layers to capture interactions\n",
    "        self.policy_head = nn.Sequential(\n",
    "            # nn.Conv1d(8, 16, kernel_size=3, padding=1),\n",
    "            # nn.ReLU(),\n",
    "            nn.Conv1d(8, self.num_actions, kernel_size=1), # 7 = seq_length\n",
    "            nn.AdaptiveAvgPool1d(1)  # 마지막에 시퀀스 길이를 1로 줄임\n",
    "        )\n",
    "        self.value_head = nn.Sequential(\n",
    "            # nn.Conv1d(8, 16, kernel_size=3, padding=1),\n",
    "            # nn.ReLU(),\n",
    "            nn.Conv1d(8, 1, kernel_size=1),\n",
    "            nn.AdaptiveAvgPool1d(1)\n",
    "        )\n",
    "\n",
    "    def act(self, inputs, role):\n",
    "        if role == \"policy\":\n",
    "            return MultiCategoricalMixin.act(self, inputs, role)\n",
    "        elif role == \"value\":\n",
    "            return DeterministicMixin.act(self, inputs, role)\n",
    "\n",
    "    def compute(self, inputs, role):\n",
    "        states = unflatten_tensorized_space(obs, inputs[\"states\"])\n",
    "\n",
    "        if role == \"policy\":\n",
    "            features = states.permute(0, 2, 1)\n",
    "            features = self.net_projection(features)\n",
    "            features = self.positional_encoding(features.permute(0, 2, 1)) # torch.Size([32, 7, 128])\n",
    "            features = features + self.transformer_encoder(features) # torch.Size([32, 7, 128])\n",
    "\n",
    "            self._shared_features = features.permute(0, 2, 1) # torch.Size([32, 128, 7])\n",
    "            actions = self.policy_head(self._shared_features) # torch.Size([32, 5, 1])\n",
    "            # print(actions)\n",
    "            return actions.squeeze(-1), {} # torch.Size([32, 5])\n",
    "            \n",
    "        elif role == \"value\":\n",
    "            if self._shared_features is None:\n",
    "                features = states.permute(0, 2, 1)\n",
    "                features = self.net_projection(features)\n",
    "                features = self.positional_encoding(features.permute(0, 2, 1))\n",
    "                features = features + self.transformer_encoder(features)\n",
    "\n",
    "                shared_features = features.permute(0, 2, 1)\n",
    "            else:\n",
    "                shared_features = self._shared_features\n",
    "\n",
    "            self._shared_output = None\n",
    "\n",
    "            value = self.value_head(shared_features)\n",
    "            return value.squeeze(-1), {}"
   ]
  },
  {
   "cell_type": "code",
   "execution_count": 6,
   "id": "f557769b",
   "metadata": {},
   "outputs": [],
   "source": [
    "models = {}\n",
    "models[\"policy\"] = SharedNoFC(env.observation_space, env.action_space, device)\n",
    "models[\"value\"] = models[\"policy\"]\n",
    "\n",
    "for model in models.values():\n",
    "    model.init_parameters(method_name=\"normal_\", mean=0.0, std=0.1)"
   ]
  },
  {
   "cell_type": "code",
   "execution_count": 7,
   "id": "937d3fe4",
   "metadata": {},
   "outputs": [],
   "source": [
    "from skrl.agents.torch.ppo import PPO_DEFAULT_CONFIG\n",
    "from skrl.resources.schedulers.torch import KLAdaptiveLR\n",
    "\n",
    "cfg = PPO_DEFAULT_CONFIG.copy()\n",
    "cfg[\"rollouts\"] = memory_size\n",
    "cfg[\"learning_epochs\"] = 32\n",
    "cfg[\"mini_batches\"] = 16\n",
    "cfg[\"discount_factor\"] = 0.99\n",
    "cfg[\"learning_rate\"] = 5e-4\n",
    "cfg[\"learning_rate_scheduler\"] = KLAdaptiveLR\n",
    "cfg[\"learning_rate_scheduler_kwargs\"] = {\"kl_threshold\": 0.01, \"min_lr\": 1e-7}\n",
    "\n",
    "cfg[\"experiment\"][\"write_interval\"] = 5000\n",
    "cfg[\"experiment\"][\"checkpoint_interval\"] = 100000\n",
    "cfg[\"experiment\"][\"directory\"] = \"runs/torch/mddt\""
   ]
  },
  {
   "cell_type": "code",
   "execution_count": 8,
   "id": "92829202",
   "metadata": {},
   "outputs": [],
   "source": [
    "import warnings\n",
    "from skrl.agents.torch.ppo import PPO\n",
    "\n",
    "warnings.simplefilter(action='ignore', category=FutureWarning)\n",
    "warnings.simplefilter(action='ignore', category=DeprecationWarning)\n",
    "\n",
    "agent = PPO(\n",
    "    models=models,\n",
    "    memory=memory,\n",
    "    cfg=cfg,\n",
    "    observation_space=env.observation_space,\n",
    "    action_space=env.action_space,\n",
    "    device=device,\n",
    ")\n",
    "path = \"24-12-04_17-39-55-948072_PPO\"\n",
    "agent.load(f\"/home/pitin/Desktop/hp/runs/torch/mddt/{path}/checkpoints/best_agent.pt\")\n",
    "cfg_trainer = {\"timesteps\": 10000000, \"headless\": True, \"environment_info\": \"pc_counter\"}\n",
    "trainer = ParallelTrainer(cfg=cfg_trainer, env=env, agents=[agent])"
   ]
  },
  {
   "cell_type": "code",
   "execution_count": 9,
   "id": "c4d700cc",
   "metadata": {},
   "outputs": [
    {
     "ename": "KeyError",
     "evalue": "61",
     "output_type": "error",
     "traceback": [
      "\u001b[0;31m---------------------------------------------------------------------------\u001b[0m",
      "\u001b[0;31mKeyError\u001b[0m                                  Traceback (most recent call last)",
      "File \u001b[0;32m~/Desktop/hp/.venv/lib/python3.10/site-packages/pandas/core/indexes/base.py:3805\u001b[0m, in \u001b[0;36mIndex.get_loc\u001b[0;34m(self, key)\u001b[0m\n\u001b[1;32m   3804\u001b[0m \u001b[38;5;28;01mtry\u001b[39;00m:\n\u001b[0;32m-> 3805\u001b[0m     \u001b[38;5;28;01mreturn\u001b[39;00m \u001b[38;5;28;43mself\u001b[39;49m\u001b[38;5;241;43m.\u001b[39;49m\u001b[43m_engine\u001b[49m\u001b[38;5;241;43m.\u001b[39;49m\u001b[43mget_loc\u001b[49m\u001b[43m(\u001b[49m\u001b[43mcasted_key\u001b[49m\u001b[43m)\u001b[49m\n\u001b[1;32m   3806\u001b[0m \u001b[38;5;28;01mexcept\u001b[39;00m \u001b[38;5;167;01mKeyError\u001b[39;00m \u001b[38;5;28;01mas\u001b[39;00m err:\n",
      "File \u001b[0;32mindex.pyx:167\u001b[0m, in \u001b[0;36mpandas._libs.index.IndexEngine.get_loc\u001b[0;34m()\u001b[0m\n",
      "File \u001b[0;32mindex.pyx:196\u001b[0m, in \u001b[0;36mpandas._libs.index.IndexEngine.get_loc\u001b[0;34m()\u001b[0m\n",
      "File \u001b[0;32mpandas/_libs/hashtable_class_helper.pxi:7081\u001b[0m, in \u001b[0;36mpandas._libs.hashtable.PyObjectHashTable.get_item\u001b[0;34m()\u001b[0m\n",
      "File \u001b[0;32mpandas/_libs/hashtable_class_helper.pxi:7089\u001b[0m, in \u001b[0;36mpandas._libs.hashtable.PyObjectHashTable.get_item\u001b[0;34m()\u001b[0m\n",
      "\u001b[0;31mKeyError\u001b[0m: 61",
      "\nThe above exception was the direct cause of the following exception:\n",
      "\u001b[0;31mKeyError\u001b[0m                                  Traceback (most recent call last)",
      "Cell \u001b[0;32mIn[9], line 12\u001b[0m\n\u001b[1;32m     10\u001b[0m \u001b[38;5;28;01mwith\u001b[39;00m torch\u001b[38;5;241m.\u001b[39mno_grad():\n\u001b[1;32m     11\u001b[0m     actions \u001b[38;5;241m=\u001b[39m agent\u001b[38;5;241m.\u001b[39mact(states, timestep\u001b[38;5;241m=\u001b[39mtimestep, timesteps\u001b[38;5;241m=\u001b[39mtimesteps)[\u001b[38;5;241m0\u001b[39m]\n\u001b[0;32m---> 12\u001b[0m     next_states, rewards, terminated, truncated, infos \u001b[38;5;241m=\u001b[39m \u001b[43menv\u001b[49m\u001b[38;5;241;43m.\u001b[39;49m\u001b[43mstep\u001b[49m\u001b[43m(\u001b[49m\u001b[43mactions\u001b[49m\u001b[43m)\u001b[49m\n\u001b[1;32m     13\u001b[0m     env\u001b[38;5;241m.\u001b[39mrender()\n\u001b[1;32m     15\u001b[0m \u001b[38;5;28msuper\u001b[39m(\u001b[38;5;28mtype\u001b[39m(agent), agent)\u001b[38;5;241m.\u001b[39mpost_interaction(timestep\u001b[38;5;241m=\u001b[39mtimestep, timesteps\u001b[38;5;241m=\u001b[39mtimesteps)\n",
      "File \u001b[0;32m~/Desktop/hp/.venv/lib/python3.10/site-packages/skrl/envs/wrappers/torch/gymnasium_envs.py:65\u001b[0m, in \u001b[0;36mGymnasiumWrapper.step\u001b[0;34m(self, actions)\u001b[0m\n\u001b[1;32m     51\u001b[0m \u001b[38;5;250m\u001b[39m\u001b[38;5;124;03m\"\"\"Perform a step in the environment\u001b[39;00m\n\u001b[1;32m     52\u001b[0m \n\u001b[1;32m     53\u001b[0m \u001b[38;5;124;03m:param actions: The actions to perform\u001b[39;00m\n\u001b[0;32m   (...)\u001b[0m\n\u001b[1;32m     57\u001b[0m \u001b[38;5;124;03m:rtype: tuple of torch.Tensor and any other info\u001b[39;00m\n\u001b[1;32m     58\u001b[0m \u001b[38;5;124;03m\"\"\"\u001b[39;00m\n\u001b[1;32m     59\u001b[0m actions \u001b[38;5;241m=\u001b[39m untensorize_space(\n\u001b[1;32m     60\u001b[0m     \u001b[38;5;28mself\u001b[39m\u001b[38;5;241m.\u001b[39maction_space,\n\u001b[1;32m     61\u001b[0m     unflatten_tensorized_space(\u001b[38;5;28mself\u001b[39m\u001b[38;5;241m.\u001b[39maction_space, actions),\n\u001b[1;32m     62\u001b[0m     squeeze_batch_dimension\u001b[38;5;241m=\u001b[39m\u001b[38;5;129;01mnot\u001b[39;00m \u001b[38;5;28mself\u001b[39m\u001b[38;5;241m.\u001b[39m_vectorized,\n\u001b[1;32m     63\u001b[0m )\n\u001b[0;32m---> 65\u001b[0m observation, reward, terminated, truncated, info \u001b[38;5;241m=\u001b[39m \u001b[38;5;28;43mself\u001b[39;49m\u001b[38;5;241;43m.\u001b[39;49m\u001b[43m_env\u001b[49m\u001b[38;5;241;43m.\u001b[39;49m\u001b[43mstep\u001b[49m\u001b[43m(\u001b[49m\u001b[43mactions\u001b[49m\u001b[43m)\u001b[49m\n\u001b[1;32m     67\u001b[0m \u001b[38;5;66;03m# convert response to torch\u001b[39;00m\n\u001b[1;32m     68\u001b[0m observation \u001b[38;5;241m=\u001b[39m flatten_tensorized_space(tensorize_space(\u001b[38;5;28mself\u001b[39m\u001b[38;5;241m.\u001b[39mobservation_space, observation, \u001b[38;5;28mself\u001b[39m\u001b[38;5;241m.\u001b[39mdevice))\n",
      "File \u001b[0;32m~/Desktop/hp/.venv/lib/python3.10/site-packages/gymnasium/wrappers/common.py:393\u001b[0m, in \u001b[0;36mOrderEnforcing.step\u001b[0;34m(self, action)\u001b[0m\n\u001b[1;32m    391\u001b[0m \u001b[38;5;28;01mif\u001b[39;00m \u001b[38;5;129;01mnot\u001b[39;00m \u001b[38;5;28mself\u001b[39m\u001b[38;5;241m.\u001b[39m_has_reset:\n\u001b[1;32m    392\u001b[0m     \u001b[38;5;28;01mraise\u001b[39;00m ResetNeeded(\u001b[38;5;124m\"\u001b[39m\u001b[38;5;124mCannot call env.step() before calling env.reset()\u001b[39m\u001b[38;5;124m\"\u001b[39m)\n\u001b[0;32m--> 393\u001b[0m \u001b[38;5;28;01mreturn\u001b[39;00m \u001b[38;5;28;43msuper\u001b[39;49m\u001b[43m(\u001b[49m\u001b[43m)\u001b[49m\u001b[38;5;241;43m.\u001b[39;49m\u001b[43mstep\u001b[49m\u001b[43m(\u001b[49m\u001b[43maction\u001b[49m\u001b[43m)\u001b[49m\n",
      "File \u001b[0;32m~/Desktop/hp/.venv/lib/python3.10/site-packages/gymnasium/core.py:322\u001b[0m, in \u001b[0;36mWrapper.step\u001b[0;34m(self, action)\u001b[0m\n\u001b[1;32m    318\u001b[0m \u001b[38;5;28;01mdef\u001b[39;00m \u001b[38;5;21mstep\u001b[39m(\n\u001b[1;32m    319\u001b[0m     \u001b[38;5;28mself\u001b[39m, action: WrapperActType\n\u001b[1;32m    320\u001b[0m ) \u001b[38;5;241m-\u001b[39m\u001b[38;5;241m>\u001b[39m \u001b[38;5;28mtuple\u001b[39m[WrapperObsType, SupportsFloat, \u001b[38;5;28mbool\u001b[39m, \u001b[38;5;28mbool\u001b[39m, \u001b[38;5;28mdict\u001b[39m[\u001b[38;5;28mstr\u001b[39m, Any]]:\n\u001b[1;32m    321\u001b[0m \u001b[38;5;250m    \u001b[39m\u001b[38;5;124;03m\"\"\"Uses the :meth:`step` of the :attr:`env` that can be overwritten to change the returned data.\"\"\"\u001b[39;00m\n\u001b[0;32m--> 322\u001b[0m     \u001b[38;5;28;01mreturn\u001b[39;00m \u001b[38;5;28;43mself\u001b[39;49m\u001b[38;5;241;43m.\u001b[39;49m\u001b[43menv\u001b[49m\u001b[38;5;241;43m.\u001b[39;49m\u001b[43mstep\u001b[49m\u001b[43m(\u001b[49m\u001b[43maction\u001b[49m\u001b[43m)\u001b[49m\n",
      "File \u001b[0;32m~/Desktop/hp/only_features_env.py:309\u001b[0m, in \u001b[0;36mDiscretedTradingEnv.step\u001b[0;34m(self, position_index)\u001b[0m\n\u001b[1;32m    283\u001b[0m entry_valuation \u001b[38;5;241m=\u001b[39m (\n\u001b[1;32m    284\u001b[0m     \u001b[38;5;28mself\u001b[39m\u001b[38;5;241m.\u001b[39mhistorical_info[\u001b[38;5;124m\"\u001b[39m\u001b[38;5;124mentry_valuation\u001b[39m\u001b[38;5;124m\"\u001b[39m, \u001b[38;5;241m-\u001b[39m\u001b[38;5;241m1\u001b[39m]\n\u001b[1;32m    285\u001b[0m     \u001b[38;5;28;01mif\u001b[39;00m \u001b[38;5;129;01mnot\u001b[39;00m is_position_changed\n\u001b[1;32m    286\u001b[0m     \u001b[38;5;28;01melse\u001b[39;00m portfolio_value\n\u001b[1;32m    287\u001b[0m )\n\u001b[1;32m    289\u001b[0m \u001b[38;5;28mself\u001b[39m\u001b[38;5;241m.\u001b[39mhistorical_info\u001b[38;5;241m.\u001b[39madd(\n\u001b[1;32m    290\u001b[0m     idx\u001b[38;5;241m=\u001b[39m\u001b[38;5;28mself\u001b[39m\u001b[38;5;241m.\u001b[39m_idx,\n\u001b[1;32m    291\u001b[0m     step\u001b[38;5;241m=\u001b[39m\u001b[38;5;28mself\u001b[39m\u001b[38;5;241m.\u001b[39m_step,\n\u001b[0;32m   (...)\u001b[0m\n\u001b[1;32m    306\u001b[0m     \u001b[38;5;66;03m# realized_PNL=0,\u001b[39;00m\n\u001b[1;32m    307\u001b[0m )\n\u001b[0;32m--> 309\u001b[0m c \u001b[38;5;241m=\u001b[39m \u001b[38;5;28;43mself\u001b[39;49m\u001b[38;5;241;43m.\u001b[39;49m\u001b[43mdf\u001b[49m\u001b[43m[\u001b[49m\u001b[38;5;28;43mself\u001b[39;49m\u001b[38;5;241;43m.\u001b[39;49m\u001b[43m_idx\u001b[49m\u001b[43m \u001b[49m\u001b[38;5;241;43m+\u001b[39;49m\u001b[43m \u001b[49m\u001b[38;5;241;43m1\u001b[39;49m\u001b[43m]\u001b[49m\n\u001b[1;32m    310\u001b[0m \u001b[38;5;28mprint\u001b[39m(c)\n\u001b[1;32m    312\u001b[0m \u001b[38;5;28mself\u001b[39m\u001b[38;5;241m.\u001b[39mhistorical_info[\u001b[38;5;124m\"\u001b[39m\u001b[38;5;124mreward\u001b[39m\u001b[38;5;124m\"\u001b[39m, \u001b[38;5;241m-\u001b[39m\u001b[38;5;241m1\u001b[39m] \u001b[38;5;241m=\u001b[39m \u001b[38;5;28mself\u001b[39m\u001b[38;5;241m.\u001b[39mreward_function(\u001b[38;5;28mself\u001b[39m\u001b[38;5;241m.\u001b[39mhistorical_info)\n",
      "File \u001b[0;32m~/Desktop/hp/.venv/lib/python3.10/site-packages/pandas/core/frame.py:4102\u001b[0m, in \u001b[0;36mDataFrame.__getitem__\u001b[0;34m(self, key)\u001b[0m\n\u001b[1;32m   4100\u001b[0m \u001b[38;5;28;01mif\u001b[39;00m \u001b[38;5;28mself\u001b[39m\u001b[38;5;241m.\u001b[39mcolumns\u001b[38;5;241m.\u001b[39mnlevels \u001b[38;5;241m>\u001b[39m \u001b[38;5;241m1\u001b[39m:\n\u001b[1;32m   4101\u001b[0m     \u001b[38;5;28;01mreturn\u001b[39;00m \u001b[38;5;28mself\u001b[39m\u001b[38;5;241m.\u001b[39m_getitem_multilevel(key)\n\u001b[0;32m-> 4102\u001b[0m indexer \u001b[38;5;241m=\u001b[39m \u001b[38;5;28;43mself\u001b[39;49m\u001b[38;5;241;43m.\u001b[39;49m\u001b[43mcolumns\u001b[49m\u001b[38;5;241;43m.\u001b[39;49m\u001b[43mget_loc\u001b[49m\u001b[43m(\u001b[49m\u001b[43mkey\u001b[49m\u001b[43m)\u001b[49m\n\u001b[1;32m   4103\u001b[0m \u001b[38;5;28;01mif\u001b[39;00m is_integer(indexer):\n\u001b[1;32m   4104\u001b[0m     indexer \u001b[38;5;241m=\u001b[39m [indexer]\n",
      "File \u001b[0;32m~/Desktop/hp/.venv/lib/python3.10/site-packages/pandas/core/indexes/base.py:3812\u001b[0m, in \u001b[0;36mIndex.get_loc\u001b[0;34m(self, key)\u001b[0m\n\u001b[1;32m   3807\u001b[0m     \u001b[38;5;28;01mif\u001b[39;00m \u001b[38;5;28misinstance\u001b[39m(casted_key, \u001b[38;5;28mslice\u001b[39m) \u001b[38;5;129;01mor\u001b[39;00m (\n\u001b[1;32m   3808\u001b[0m         \u001b[38;5;28misinstance\u001b[39m(casted_key, abc\u001b[38;5;241m.\u001b[39mIterable)\n\u001b[1;32m   3809\u001b[0m         \u001b[38;5;129;01mand\u001b[39;00m \u001b[38;5;28many\u001b[39m(\u001b[38;5;28misinstance\u001b[39m(x, \u001b[38;5;28mslice\u001b[39m) \u001b[38;5;28;01mfor\u001b[39;00m x \u001b[38;5;129;01min\u001b[39;00m casted_key)\n\u001b[1;32m   3810\u001b[0m     ):\n\u001b[1;32m   3811\u001b[0m         \u001b[38;5;28;01mraise\u001b[39;00m InvalidIndexError(key)\n\u001b[0;32m-> 3812\u001b[0m     \u001b[38;5;28;01mraise\u001b[39;00m \u001b[38;5;167;01mKeyError\u001b[39;00m(key) \u001b[38;5;28;01mfrom\u001b[39;00m \u001b[38;5;21;01merr\u001b[39;00m\n\u001b[1;32m   3813\u001b[0m \u001b[38;5;28;01mexcept\u001b[39;00m \u001b[38;5;167;01mTypeError\u001b[39;00m:\n\u001b[1;32m   3814\u001b[0m     \u001b[38;5;66;03m# If we have a listlike key, _check_indexing_error will raise\u001b[39;00m\n\u001b[1;32m   3815\u001b[0m     \u001b[38;5;66;03m#  InvalidIndexError. Otherwise we fall through and re-raise\u001b[39;00m\n\u001b[1;32m   3816\u001b[0m     \u001b[38;5;66;03m#  the TypeError.\u001b[39;00m\n\u001b[1;32m   3817\u001b[0m     \u001b[38;5;28mself\u001b[39m\u001b[38;5;241m.\u001b[39m_check_indexing_error(key)\n",
      "\u001b[0;31mKeyError\u001b[0m: 61"
     ]
    }
   ],
   "source": [
    "states, infos = env.reset()\n",
    "timestep = 0\n",
    "timesteps = 3000\n",
    "terminated = torch.tensor([[False] * env.num_envs])\n",
    "\n",
    "# while (not terminated.any()):\n",
    "for _ in range(1000):\n",
    "    agent.pre_interaction(timestep=timestep, timesteps=timesteps)\n",
    "\n",
    "    with torch.no_grad():\n",
    "        actions = agent.act(states, timestep=timestep, timesteps=timesteps)[0]\n",
    "        next_states, rewards, terminated, truncated, infos = env.step(actions)\n",
    "        env.render()\n",
    "\n",
    "    super(type(agent), agent).post_interaction(timestep=timestep, timesteps=timesteps)\n",
    "\n",
    "    if env.num_envs > 1:\n",
    "        states = next_states\n",
    "    else:\n",
    "        if terminated.any() or truncated.any():\n",
    "            with torch.no_grad():\n",
    "                states, infos = env.reset()\n",
    "        else:\n",
    "            states = next_states\n",
    "\n",
    "env.save_for_render()"
   ]
  },
  {
   "cell_type": "code",
   "execution_count": null,
   "id": "85fdf4a1",
   "metadata": {},
   "outputs": [
    {
     "name": "stdout",
     "output_type": "stream",
     "text": [
      " * Serving Flask app 'gym_trading_env.renderer'\n",
      " * Debug mode: off\n"
     ]
    },
    {
     "name": "stderr",
     "output_type": "stream",
     "text": [
      "\u001b[31m\u001b[1mWARNING: This is a development server. Do not use it in a production deployment. Use a production WSGI server instead.\u001b[0m\n",
      " * Running on http://127.0.0.1:5000\n",
      "\u001b[33mPress CTRL+C to quit\u001b[0m\n",
      "127.0.0.1 - - [05/Dec/2024 15:19:46] \"GET / HTTP/1.1\" 200 -\n",
      "127.0.0.1 - - [05/Dec/2024 15:19:47] \"GET /update_data/binance-BTCUSDT-15m.pkl_2024-12-04_17-38-26.pkl HTTP/1.1\" 200 -\n",
      "127.0.0.1 - - [05/Dec/2024 15:19:47] \"\u001b[33mGET /favicon.ico HTTP/1.1\u001b[0m\" 404 -\n",
      "127.0.0.1 - - [05/Dec/2024 15:19:48] \"GET /metrics HTTP/1.1\" 200 -\n",
      "127.0.0.1 - - [05/Dec/2024 15:20:00] \"GET /update_data/binance-SANDUSDT-15m.pkl_2024-12-05_08-25-24.pkl HTTP/1.1\" 200 -\n",
      "127.0.0.1 - - [05/Dec/2024 15:20:00] \"GET /metrics HTTP/1.1\" 200 -\n",
      "127.0.0.1 - - [05/Dec/2024 15:20:59] \"GET /update_data/binance-BTCUSDT-15m.pkl_2024-12-04_17-38-26.pkl HTTP/1.1\" 200 -\n",
      "127.0.0.1 - - [05/Dec/2024 15:20:59] \"GET /metrics HTTP/1.1\" 200 -\n"
     ]
    }
   ],
   "source": [
    "from gym_trading_env.renderer import Renderer\n",
    "renderer = Renderer(render_logs_dir=\"render_logs\")\n",
    "renderer.run()"
   ]
  }
 ],
 "metadata": {
  "kernelspec": {
   "display_name": ".venv",
   "language": "python",
   "name": "python3"
  },
  "language_info": {
   "codemirror_mode": {
    "name": "ipython",
    "version": 3
   },
   "file_extension": ".py",
   "mimetype": "text/x-python",
   "name": "python",
   "nbconvert_exporter": "python",
   "pygments_lexer": "ipython3",
   "version": "3.10.12"
  }
 },
 "nbformat": 4,
 "nbformat_minor": 5
}
