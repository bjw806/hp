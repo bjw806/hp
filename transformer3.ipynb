{
 "cells": [
  {
   "cell_type": "code",
   "execution_count": 1,
   "id": "initial_id",
   "metadata": {
    "ExecuteTime": {
     "end_time": "2024-03-14T06:30:53.295303400Z",
     "start_time": "2024-03-14T06:30:47.841350100Z"
    }
   },
   "outputs": [
    {
     "name": "stderr",
     "output_type": "stream",
     "text": [
      "\u001b[38;20m[skrl:INFO] Seed: 42\u001b[0m\n"
     ]
    }
   ],
   "source": [
    "import gymnasium as gym\n",
    "import torch\n",
    "import torch.nn as nn\n",
    "from skrl.envs.wrappers.torch import wrap_env\n",
    "from skrl.memories.torch import RandomMemory\n",
    "from skrl.models.torch import DeterministicMixin, Model, MultiCategoricalMixin\n",
    "from skrl.trainers.torch import ParallelTrainer\n",
    "from skrl.utils import set_seed\n",
    "from torch.nn import TransformerEncoder, TransformerEncoderLayer\n",
    "\n",
    "from preprocess import preprocess\n",
    "from skrl.utils.spaces.torch import unflatten_tensorized_space\n",
    "\n",
    "set_seed(42)\n",
    "\n",
    "gym.register(\n",
    "    id=\"MultiDatasetDiscretedTradingEnv\",\n",
    "    entry_point=\"only_features_env:MultiDatasetDiscretedTradingEnv\",\n",
    "    disable_env_checker=True,\n",
    ")"
   ]
  },
  {
   "cell_type": "code",
   "execution_count": 2,
   "id": "97f95c0e",
   "metadata": {},
   "outputs": [],
   "source": [
    "env_cfg = dict(\n",
    "    id=\"MultiDatasetDiscretedTradingEnv\",\n",
    "    dataset_dir=\"./data/futures/15m/**/**/*.pkl\",\n",
    "    preprocess=preprocess,\n",
    "    # reward_function=simple_reward,\n",
    "    positions=[-1, 0, 1],\n",
    "    multiplier=[2, 5, 10],\n",
    "    trading_fees=0.0001,\n",
    "    borrow_interest_rate=0.0003,\n",
    "    portfolio_initial_value=1e6,\n",
    "    max_episode_duration=\"max\",\n",
    "    verbose=0,\n",
    "    window_size=30,\n",
    "    btc_index=True,\n",
    ")"
   ]
  },
  {
   "cell_type": "code",
   "execution_count": 3,
   "id": "3a91dbf0",
   "metadata": {},
   "outputs": [
    {
     "name": "stderr",
     "output_type": "stream",
     "text": [
      "\u001b[38;20m[skrl:INFO] Environment wrapper: gymnasium\u001b[0m\n"
     ]
    }
   ],
   "source": [
    "env = gym.make(**env_cfg)\n",
    "obs = env.observation_space\n",
    "env = gym.make_vec(\n",
    "    vectorization_mode=\"sync\",\n",
    "    num_envs=512,\n",
    "    **env_cfg,\n",
    ")\n",
    "env = wrap_env(env, wrapper=\"gymnasium\")"
   ]
  },
  {
   "cell_type": "code",
   "execution_count": 4,
   "id": "3eb84657",
   "metadata": {},
   "outputs": [],
   "source": [
    "device = env.device\n",
    "replay_buffer_size = 1024 * 1 * env.num_envs\n",
    "memory_size = int(replay_buffer_size / env.num_envs)\n",
    "memory = RandomMemory(memory_size=memory_size, num_envs=env.num_envs, device=device, replacement=False)"
   ]
  },
  {
   "cell_type": "code",
   "execution_count": 5,
   "id": "1001a1fd",
   "metadata": {},
   "outputs": [],
   "source": [
    "class LearnablePositionalEncoding(nn.Module):\n",
    "    def __init__(self, d_model, max_len=1024 * 16):\n",
    "        super().__init__()\n",
    "        self.position_embedding = nn.Embedding(max_len, d_model)\n",
    "\n",
    "    def forward(self, x):\n",
    "        batch_size, seq_len, _ = x.size()\n",
    "        positions = torch.arange(0, seq_len, device=x.device).unsqueeze(0)\n",
    "        positions = positions.expand(batch_size, seq_len)\n",
    "        position_encoded = self.position_embedding(positions)\n",
    "        return x + position_encoded\n",
    "\n",
    "\n",
    "class AttentionPooling(nn.Module):\n",
    "    def __init__(self, hidden_size):\n",
    "        super(AttentionPooling, self).__init__()\n",
    "        self.attention = nn.Linear(hidden_size, 1)\n",
    "\n",
    "    def forward(self, x):\n",
    "        attention_weights = self.attention(x).squeeze(-1)\n",
    "        attention_weights = torch.softmax(attention_weights, dim=-1)\n",
    "        pooled_x = torch.bmm(attention_weights.unsqueeze(1), x).squeeze(1)\n",
    "        return pooled_x\n",
    "\n",
    "\n",
    "class SharedNoFC(MultiCategoricalMixin, DeterministicMixin, Model):\n",
    "    def __init__(\n",
    "        self,\n",
    "        observation_space,\n",
    "        action_space,\n",
    "        device,\n",
    "        clip_actions=False,\n",
    "        unnormalized_log_prob=True,\n",
    "        reduction=\"sum\",\n",
    "    ):\n",
    "        Model.__init__(self, observation_space, action_space, device)\n",
    "        MultiCategoricalMixin.__init__(self, unnormalized_log_prob, reduction)\n",
    "        DeterministicMixin.__init__(self, clip_actions)\n",
    "\n",
    "        self._shared_features = None\n",
    "        self.num_features = 8\n",
    "\n",
    "        # Transformer Encoder for self-attention\n",
    "        transformer_layer = TransformerEncoderLayer(\n",
    "            d_model=self.num_features,  # The size of the input feature vector\n",
    "            nhead=4,  # Number of attention heads\n",
    "            dim_feedforward=256,  # The size of the feedforward network in the encoder\n",
    "            dropout=0.1,\n",
    "            batch_first=True,  # Use batch_first for better inference performance\n",
    "        )\n",
    "        self.positional_encoding = LearnablePositionalEncoding(\n",
    "            d_model=self.num_features\n",
    "        )\n",
    "        self.transformer_encoder = TransformerEncoder(transformer_layer, num_layers=2)\n",
    "        self.attention_pooling = AttentionPooling(self.num_features)\n",
    "\n",
    "        self.shared_head = nn.Sequential(\n",
    "            nn.LayerNorm(8),\n",
    "            nn.GELU(),\n",
    "            nn.Dropout(0.3),\n",
    "        )\n",
    "\n",
    "        self.policy_head = nn.Sequential(nn.Linear(self.num_features, self.num_actions))\n",
    "        self.value_head = nn.Sequential(nn.Linear(self.num_features, 1))\n",
    "\n",
    "    def act(self, inputs, role):\n",
    "        if role == \"policy\":\n",
    "            return MultiCategoricalMixin.act(self, inputs, role)\n",
    "        elif role == \"value\":\n",
    "            return DeterministicMixin.act(self, inputs, role)\n",
    "\n",
    "    def compute(self, inputs, role):\n",
    "        states = unflatten_tensorized_space(\n",
    "            obs, inputs[\"states\"]\n",
    "        )  # (batch_size, seq_length=30, num_features=8)\n",
    "\n",
    "        if role == \"policy\":\n",
    "            features = self.positional_encoding(states)\n",
    "            features = self.transformer_encoder(features)\n",
    "            features = self.attention_pooling(features)\n",
    "            self._shared_features = self.shared_head(features)\n",
    "\n",
    "            actions = self.policy_head(self._shared_features)\n",
    "            return actions, {}\n",
    "\n",
    "        elif role == \"value\":\n",
    "            if self._shared_features is None:\n",
    "                features = self.positional_encoding(states)\n",
    "                features = self.transformer_encoder(features)\n",
    "                features = self.attention_pooling(features)\n",
    "                shared_features = self.shared_head(features)\n",
    "            else:\n",
    "                shared_features = self._shared_features\n",
    "\n",
    "            self._shared_output = None\n",
    "\n",
    "            value = self.value_head(shared_features)\n",
    "            return value, {}"
   ]
  },
  {
   "cell_type": "code",
   "execution_count": 6,
   "id": "f557769b",
   "metadata": {},
   "outputs": [],
   "source": [
    "models = {}\n",
    "models[\"policy\"] = SharedNoFC(env.observation_space, env.action_space, device)\n",
    "models[\"value\"] = models[\"policy\"]\n",
    "\n",
    "for model in models.values():\n",
    "    model.init_parameters(method_name=\"normal_\", mean=0.0, std=0.1)"
   ]
  },
  {
   "cell_type": "code",
   "execution_count": 7,
   "id": "937d3fe4",
   "metadata": {},
   "outputs": [],
   "source": [
    "from skrl.agents.torch.ppo import PPO_DEFAULT_CONFIG\n",
    "from skrl.resources.schedulers.torch import KLAdaptiveLR\n",
    "\n",
    "cfg = PPO_DEFAULT_CONFIG.copy()\n",
    "cfg[\"rollouts\"] = memory_size\n",
    "cfg[\"learning_epochs\"] = 16\n",
    "cfg[\"mini_batches\"] = 12\n",
    "cfg[\"discount_factor\"] = 0.99\n",
    "cfg[\"learning_rate\"] = 5e-4\n",
    "cfg[\"learning_rate_scheduler\"] = KLAdaptiveLR\n",
    "cfg[\"learning_rate_scheduler_kwargs\"] = {\"kl_threshold\": 0.01, \"min_lr\": 1e-8}\n",
    "\n",
    "cfg[\"experiment\"][\"write_interval\"] = 1000\n",
    "cfg[\"experiment\"][\"checkpoint_interval\"] = 10000\n",
    "cfg[\"experiment\"][\"directory\"] = \"runs/torch/mddt\""
   ]
  },
  {
   "cell_type": "code",
   "execution_count": 8,
   "id": "92829202",
   "metadata": {},
   "outputs": [],
   "source": [
    "import warnings\n",
    "\n",
    "from skrl.agents.torch.ppo import PPO\n",
    "\n",
    "warnings.simplefilter(action='ignore', category=FutureWarning)\n",
    "warnings.simplefilter(action='ignore', category=DeprecationWarning)\n",
    "\n",
    "agent = PPO(\n",
    "    models=models,\n",
    "    memory=memory,\n",
    "    cfg=cfg,\n",
    "    observation_space=env.observation_space,\n",
    "    action_space=env.action_space,\n",
    "    device=device,\n",
    ")\n",
    "cfg_trainer = {\"timesteps\": 10000000, \"headless\": True, \"environment_info\": [\"pc_counter\", \"portfolio_valuation\"]}\n",
    "trainer = ParallelTrainer(cfg=cfg_trainer, env=env, agents=[agent])"
   ]
  },
  {
   "cell_type": "code",
   "execution_count": null,
   "id": "96f974dd",
   "metadata": {},
   "outputs": [
    {
     "name": "stdout",
     "output_type": "stream",
     "text": [
      "  0%|          | 17724/10000000 [20:33<76:21:24, 36.31it/s]   "
     ]
    }
   ],
   "source": [
    "trainer.train()"
   ]
  }
 ],
 "metadata": {
  "kernelspec": {
   "display_name": ".venv",
   "language": "python",
   "name": "python3"
  },
  "language_info": {
   "codemirror_mode": {
    "name": "ipython",
    "version": 3
   },
   "file_extension": ".py",
   "mimetype": "text/x-python",
   "name": "python",
   "nbconvert_exporter": "python",
   "pygments_lexer": "ipython3",
   "version": "3.10.12"
  }
 },
 "nbformat": 4,
 "nbformat_minor": 5
}
