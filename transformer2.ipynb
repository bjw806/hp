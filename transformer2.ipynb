{
 "cells": [
  {
   "cell_type": "code",
   "execution_count": null,
   "id": "initial_id",
   "metadata": {
    "ExecuteTime": {
     "end_time": "2024-03-14T06:30:53.295303400Z",
     "start_time": "2024-03-14T06:30:47.841350100Z"
    }
   },
   "outputs": [
    {
     "name": "stderr",
     "output_type": "stream",
     "text": [
      "\u001b[38;20m[skrl:INFO] Seed: 42\u001b[0m\n"
     ]
    }
   ],
   "source": [
    "import math\n",
    "\n",
    "import gymnasium as gym\n",
    "import torch\n",
    "import torch.nn as nn\n",
    "from skrl.envs.wrappers.torch import wrap_env\n",
    "from skrl.memories.torch import RandomMemory\n",
    "from skrl.models.torch import DeterministicMixin, Model, MultiCategoricalMixin\n",
    "from skrl.trainers.torch import ParallelTrainer\n",
    "from skrl.utils import set_seed\n",
    "from torch.nn import TransformerEncoder, TransformerEncoderLayer\n",
    "\n",
    "from lr_schedulers import CosineAnnealingWarmUpRestarts\n",
    "from preprocess import preprocess\n",
    "\n",
    "set_seed(42)\n",
    "\n",
    "gym.register(\n",
    "    id=\"MultiDatasetDiscretedTradingEnv\",\n",
    "    entry_point=\"mc_env:MultiDatasetDiscretedTradingEnv\",\n",
    "    disable_env_checker=True,\n",
    ")"
   ]
  },
  {
   "cell_type": "code",
   "execution_count": null,
   "id": "97f95c0e",
   "metadata": {},
   "outputs": [],
   "source": [
    "env_cfg = dict(\n",
    "    id=\"MultiDatasetDiscretedTradingEnv\",\n",
    "    dataset_dir=\"./data/train/month_15m/**/**/*.pkl\",\n",
    "    preprocess=preprocess,\n",
    "    # reward_function=simple_reward,\n",
    "    positions=[-1, 1],\n",
    "    multiplier=[1, 2, 5],\n",
    "    trading_fees=0.01,\n",
    "    borrow_interest_rate=0.03,\n",
    "    portfolio_initial_value=1e4,\n",
    "    max_episode_duration=1000,\n",
    "    verbose=0,\n",
    "    window_size=60,\n",
    "    btc_index=True,\n",
    ")"
   ]
  },
  {
   "cell_type": "code",
   "execution_count": null,
   "id": "3a91dbf0",
   "metadata": {},
   "outputs": [
    {
     "name": "stderr",
     "output_type": "stream",
     "text": [
      "\u001b[38;20m[skrl:INFO] Environment wrapper: gymnasium\u001b[0m\n"
     ]
    }
   ],
   "source": [
    "env = gym.make(**env_cfg)\n",
    "obs = env.observation_space\n",
    "env = gym.make_vec(\n",
    "    vectorization_mode=\"sync\",\n",
    "    num_envs=32,\n",
    "    **env_cfg,\n",
    ")\n",
    "env = wrap_env(env, wrapper=\"gymnasium\")"
   ]
  },
  {
   "cell_type": "code",
   "execution_count": 4,
   "id": "3eb84657",
   "metadata": {},
   "outputs": [],
   "source": [
    "device = env.device\n",
    "replay_buffer_size = 1024 * 16 * env.num_envs\n",
    "memory_size = int(replay_buffer_size / env.num_envs)\n",
    "memory = RandomMemory(memory_size=memory_size, num_envs=env.num_envs, device=device, replacement=False)"
   ]
  },
  {
   "cell_type": "code",
   "execution_count": null,
   "id": "9949088b",
   "metadata": {},
   "outputs": [],
   "source": [
    "class PositionalEncoding(nn.Module):\n",
    "    def __init__(self, d_model, max_len=5000):\n",
    "        super().__init__()\n",
    "        encoding = torch.zeros(max_len, d_model)\n",
    "        position = torch.arange(0, max_len).unsqueeze(1)\n",
    "        div_term = torch.exp(\n",
    "            torch.arange(0, d_model, 2) * -(math.log(10000.0) / d_model)\n",
    "        )\n",
    "        encoding[:, 0::2] = torch.sin(position * div_term)\n",
    "        encoding[:, 1::2] = torch.cos(position * div_term)\n",
    "        encoding = encoding.unsqueeze(0)\n",
    "        self.register_buffer(\"encoding\", encoding)\n",
    "\n",
    "    def forward(self, x):\n",
    "        # Add positional encoding to the input\n",
    "        return x + self.encoding[:, : x.size(1), :]\n",
    "\n",
    "\n",
    "class SharedNoFC(MultiCategoricalMixin, DeterministicMixin, Model):\n",
    "    def __init__(\n",
    "        self,\n",
    "        observation_space,\n",
    "        action_space,\n",
    "        device,\n",
    "        clip_actions=False,\n",
    "        unnormalized_log_prob=True,\n",
    "        reduction=\"sum\",\n",
    "    ):\n",
    "        Model.__init__(self, observation_space, action_space, device)\n",
    "        MultiCategoricalMixin.__init__(self, unnormalized_log_prob, reduction)\n",
    "        DeterministicMixin.__init__(self, clip_actions)\n",
    "        \n",
    "        self._shared_features = None\n",
    "        self.num_features = 5\n",
    "        \n",
    "        # CNN-based feature extraction\n",
    "        self.net_feature = nn.Sequential(\n",
    "            nn.Conv1d(self.num_features, 32, kernel_size=3, stride=2, padding=1),\n",
    "            nn.BatchNorm1d(32),\n",
    "            nn.ReLU(),\n",
    "            nn.Dropout(0.2),\n",
    "            nn.Conv1d(32, 64, kernel_size=3, stride=2, padding=1),\n",
    "            nn.BatchNorm1d(64),\n",
    "            nn.ReLU(),\n",
    "            nn.Dropout(0.2),\n",
    "            nn.Conv1d(64, 128, kernel_size=3, stride=2),\n",
    "            nn.ReLU(),\n",
    "        )\n",
    "\n",
    "        # Transformer Encoder for self-attention\n",
    "        transformer_layer = TransformerEncoderLayer(\n",
    "            d_model=128,  # The size of the input feature vector\n",
    "            nhead=8,      # Number of attention heads\n",
    "            dim_feedforward=256,  # The size of the feedforward network in the encoder\n",
    "            dropout=0.1,\n",
    "            batch_first=True  # Use batch_first for better inference performance\n",
    "        )\n",
    "        self.positional_encoding = PositionalEncoding(d_model=128)\n",
    "        self.transformer_encoder = TransformerEncoder(transformer_layer, num_layers=2)\n",
    "        # self.attention_fusion = AttentionFusion(131, 131)\n",
    "\n",
    "        # Output heads using Conv1d with additional layers to capture interactions\n",
    "        self.policy_head = nn.Sequential(\n",
    "            nn.Conv1d(128, 32, kernel_size=3, padding=1),\n",
    "            nn.RReLU(),\n",
    "            nn.Conv1d(32, self.num_actions, kernel_size=1), # 7 = seq_length\n",
    "            nn.AdaptiveAvgPool1d(1)  # 마지막에 시퀀스 길이를 1로 줄임\n",
    "        )\n",
    "        self.value_head = nn.Sequential(\n",
    "            nn.Conv1d(128, 32, kernel_size=3, padding=1),\n",
    "            nn.RReLU(),\n",
    "            nn.Conv1d(32, 1, kernel_size=1),\n",
    "            nn.AdaptiveAvgPool1d(1)\n",
    "        )\n",
    "\n",
    "    def act(self, inputs, role):\n",
    "        if role == \"policy\":\n",
    "            return MultiCategoricalMixin.act(self, inputs, role)\n",
    "        elif role == \"value\":\n",
    "            return DeterministicMixin.act(self, inputs, role)\n",
    "\n",
    "    def compute(self, inputs, role):\n",
    "        states = inputs[\"states\"]\n",
    "\n",
    "        if role == \"policy\":\n",
    "            features = states[\"features\"].permute(0, 2, 1)\n",
    "            features = self.net_feature(features) # torch.Size([32, 128, 7])\n",
    "            features = self.positional_encoding(features.permute(0, 2, 1)) # torch.Size([32, 7, 128])\n",
    "            features = features + self.transformer_encoder(features) # torch.Size([32, 7, 128])\n",
    "\n",
    "            self._shared_features = features.permute(0, 2, 1) # torch.Size([32, 128, 7])\n",
    "            actions = self.policy_head(self._shared_features) # torch.Size([32, 5, 1])\n",
    "            return actions.squeeze(-1), {} # torch.Size([32, 5])\n",
    "            \n",
    "        elif role == \"value\":\n",
    "            if self._shared_features is None:\n",
    "                features = states[\"features\"].permute(0, 2, 1)\n",
    "                features = self.net_feature(features)\n",
    "                features = self.positional_encoding(features.permute(0, 2, 1))\n",
    "                features = features + self.transformer_encoder(features)\n",
    "\n",
    "                shared_features = features.permute(0, 2, 1)\n",
    "            else:\n",
    "                shared_features = self._shared_features\n",
    "\n",
    "            self._shared_output = None\n",
    "\n",
    "            value = self.value_head(shared_features)\n",
    "            return value.squeeze(-1), {}\n"
   ]
  },
  {
   "cell_type": "code",
   "execution_count": 6,
   "id": "f557769b",
   "metadata": {},
   "outputs": [],
   "source": [
    "models = {}\n",
    "models[\"policy\"] = SharedNoFC(env.observation_space, env.action_space, device)\n",
    "models[\"value\"] = models[\"policy\"]\n",
    "\n",
    "for model in models.values():\n",
    "    model.init_parameters(method_name=\"normal_\", mean=0.0, std=0.1)"
   ]
  },
  {
   "cell_type": "code",
   "execution_count": null,
   "id": "937d3fe4",
   "metadata": {},
   "outputs": [],
   "source": [
    "from skrl.agents.torch.ppo import PPO_DEFAULT_CONFIG\n",
    "\n",
    "cfg = PPO_DEFAULT_CONFIG.copy()\n",
    "cfg[\"rollouts\"] = memory_size\n",
    "cfg[\"learning_epochs\"] = 32\n",
    "cfg[\"mini_batches\"] = 12\n",
    "cfg[\"discount_factor\"] = 0.99\n",
    "cfg[\"learning_rate\"] = 0\n",
    "cfg[\"learning_rate_scheduler\"] = CosineAnnealingWarmUpRestarts\n",
    "cfg[\"learning_rate_scheduler_kwargs\"] = {\n",
    "    \"T_0\": 16 * cfg[\"learning_epochs\"],\n",
    "    \"T_mult\": 2,\n",
    "    \"T_up\": cfg[\"learning_epochs\"],\n",
    "    \"eta_max\": 5e-4,\n",
    "    \"gamma\": 0.5,\n",
    "}\n",
    "\n",
    "cfg[\"experiment\"][\"write_interval\"] = 10000\n",
    "cfg[\"experiment\"][\"checkpoint_interval\"] = 100000\n",
    "cfg[\"experiment\"][\"directory\"] = \"runs/torch/mddt\""
   ]
  },
  {
   "cell_type": "code",
   "execution_count": 8,
   "id": "92829202",
   "metadata": {},
   "outputs": [],
   "source": [
    "import warnings\n",
    "\n",
    "from skrl.agents.torch.ppo import PPO\n",
    "\n",
    "warnings.simplefilter(action='ignore', category=FutureWarning)\n",
    "warnings.simplefilter(action='ignore', category=DeprecationWarning)\n",
    "\n",
    "agent = PPO(\n",
    "    models=models,\n",
    "    memory=memory,\n",
    "    cfg=cfg,\n",
    "    observation_space=env.observation_space,\n",
    "    action_space=env.action_space,\n",
    "    device=device,\n",
    ")\n",
    "cfg_trainer = {\"timesteps\": 10000000, \"headless\": True, \"environment_info\": [\"pc_counter\", \"portfolio_valuation\"]}\n",
    "trainer = ParallelTrainer(cfg=cfg_trainer, env=env, agents=[agent])"
   ]
  },
  {
   "cell_type": "code",
   "execution_count": null,
   "id": "96f974dd",
   "metadata": {},
   "outputs": [
    {
     "name": "stdout",
     "output_type": "stream",
     "text": [
      "  2%|▏         | 196562/10000000 [29:20<5:56:40, 458.10it/s]  "
     ]
    }
   ],
   "source": [
    "trainer.train()"
   ]
  }
 ],
 "metadata": {
  "kernelspec": {
   "display_name": ".venv",
   "language": "python",
   "name": "python3"
  },
  "language_info": {
   "codemirror_mode": {
    "name": "ipython",
    "version": 3
   },
   "file_extension": ".py",
   "mimetype": "text/x-python",
   "name": "python",
   "nbconvert_exporter": "python",
   "pygments_lexer": "ipython3",
   "version": "3.10.12"
  }
 },
 "nbformat": 4,
 "nbformat_minor": 5
}
