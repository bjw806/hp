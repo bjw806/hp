{
 "cells": [
  {
   "cell_type": "code",
   "execution_count": 1,
   "id": "initial_id",
   "metadata": {
    "ExecuteTime": {
     "end_time": "2024-03-14T06:30:53.295303400Z",
     "start_time": "2024-03-14T06:30:47.841350100Z"
    }
   },
   "outputs": [
    {
     "name": "stderr",
     "output_type": "stream",
     "text": [
      "\u001b[38;20m[skrl:INFO] Seed: 42\u001b[0m\n"
     ]
    }
   ],
   "source": [
    "import gymnasium as gym\n",
    "import torch\n",
    "from skrl.envs.wrappers.torch import wrap_env\n",
    "from skrl.memories.torch import RandomMemory\n",
    "from skrl.trainers.torch import SequentialTrainer, ParallelTrainer\n",
    "from skrl.utils import set_seed\n",
    "from reward import simple_reward\n",
    "from preprocess import preprocess\n",
    "from lr_schedulers import CosineAnnealingWarmUpRestarts\n",
    "\n",
    "set_seed(42)\n",
    "\n",
    "gym.register(\n",
    "    id=\"MultiDatasetDiscretedTradingEnv\",\n",
    "    entry_point=\"mc_env:MultiDatasetDiscretedTradingEnv\",\n",
    "    disable_env_checker=True,\n",
    ")"
   ]
  },
  {
   "cell_type": "code",
   "execution_count": 2,
   "id": "97f95c0e",
   "metadata": {},
   "outputs": [],
   "source": [
    "env_cfg = dict(\n",
    "    id=\"MultiDatasetDiscretedTradingEnv\",\n",
    "    dataset_dir=\"./data/train/month_15m/**/**/*.pkl\",\n",
    "    preprocess=preprocess,\n",
    "    reward_function=simple_reward,\n",
    "    positions=[-1, 1],\n",
    "    multiplier=[2, 5, 20],\n",
    "    trading_fees=0.01,\n",
    "    borrow_interest_rate=0.03,\n",
    "    portfolio_initial_value=1000,\n",
    "    max_episode_duration=\"max\",\n",
    "    verbose=0,\n",
    "    window_size=60,\n",
    ")"
   ]
  },
  {
   "cell_type": "code",
   "execution_count": 3,
   "id": "3a91dbf0",
   "metadata": {},
   "outputs": [
    {
     "name": "stderr",
     "output_type": "stream",
     "text": [
      "\u001b[38;20m[skrl:INFO] Environment wrapper: gymnasium\u001b[0m\n"
     ]
    }
   ],
   "source": [
    "obs = gym.make(**env_cfg).observation_space\n",
    "env = gym.make_vec(\n",
    "    vectorization_mode=\"sync\",\n",
    "    num_envs=32,\n",
    "    **env_cfg,\n",
    ")\n",
    "env = wrap_env(env, wrapper=\"gymnasium\")"
   ]
  },
  {
   "cell_type": "code",
   "execution_count": 4,
   "id": "3eb84657",
   "metadata": {},
   "outputs": [],
   "source": [
    "device = env.device\n",
    "replay_buffer_size = 1024 * 8 * env.num_envs\n",
    "memory_size = int(replay_buffer_size / env.num_envs)\n",
    "memory = RandomMemory(memory_size=memory_size, num_envs=env.num_envs, device=device, replacement=False)"
   ]
  },
  {
   "cell_type": "code",
   "execution_count": 5,
   "id": "86a6a948",
   "metadata": {},
   "outputs": [],
   "source": [
    "import torch.nn as nn\n",
    "\n",
    "\n",
    "class DepthwiseSeparableConv1d(nn.Module):\n",
    "    def __init__(self, in_channels, out_channels, kernel_size, stride=1, padding=0):\n",
    "        super(DepthwiseSeparableConv1d, self).__init__()\n",
    "        self.depthwise = nn.Conv1d(\n",
    "            in_channels, \n",
    "            in_channels, \n",
    "            kernel_size=kernel_size, \n",
    "            stride=stride, \n",
    "            padding=padding, \n",
    "            groups=in_channels  # Depthwise convolution\n",
    "        )\n",
    "        self.pointwise = nn.Conv1d(\n",
    "            in_channels, \n",
    "            out_channels, \n",
    "            kernel_size=1  # Pointwise convolution\n",
    "        )\n",
    "        self.batchnorm = nn.BatchNorm1d(out_channels)\n",
    "        self.activation = nn.ReLU()\n",
    "\n",
    "    def forward(self, x):\n",
    "        x = self.depthwise(x)\n",
    "        x = self.pointwise(x)\n",
    "        x = self.batchnorm(x)\n",
    "        x = self.activation(x)\n",
    "        return x"
   ]
  },
  {
   "cell_type": "code",
   "execution_count": 6,
   "id": "2f0269f2",
   "metadata": {},
   "outputs": [],
   "source": [
    "import torch.nn as nn\n",
    "from skrl.models.torch import DeterministicMixin, MultiCategoricalMixin, Model\n",
    "from skrl.utils.spaces.torch import unflatten_tensorized_space\n",
    "\n",
    "\n",
    "class Shared(MultiCategoricalMixin, DeterministicMixin, Model):\n",
    "    def __init__(\n",
    "        self,\n",
    "        observation_space,\n",
    "        action_space,\n",
    "        device,\n",
    "        clip_actions=False,\n",
    "        unnormalized_log_prob=True,\n",
    "        reduction=\"sum\",\n",
    "    ):\n",
    "        Model.__init__(self, observation_space, action_space, device)\n",
    "        MultiCategoricalMixin.__init__(self, unnormalized_log_prob, reduction)\n",
    "        DeterministicMixin.__init__(self, clip_actions)\n",
    "\n",
    "        self.net = nn.Sequential(\n",
    "            nn.Conv1d(8, 32, kernel_size=3, stride=2, padding=1),\n",
    "            nn.BatchNorm1d(32),\n",
    "            nn.ReLU(),\n",
    "            nn.Dropout(0.2),\n",
    "            nn.Conv1d(32, 64, kernel_size=3, stride=2, padding=1),\n",
    "            nn.BatchNorm1d(64),\n",
    "            nn.ReLU(),\n",
    "            nn.Dropout(0.2),\n",
    "            nn.Conv1d(64, 128, kernel_size=3, stride=2),\n",
    "            nn.ReLU(),\n",
    "            nn.Flatten(),\n",
    "             # torch.Size([batch, 1144])\n",
    "            nn.Linear(896, 512),\n",
    "            nn.BatchNorm1d(512),\n",
    "            nn.ELU(),\n",
    "            nn.Dropout(0.2),\n",
    "            nn.Linear(512, 128),\n",
    "            nn.BatchNorm1d(128),\n",
    "            nn.ELU(),\n",
    "            nn.Dropout(0.2),\n",
    "            nn.Linear(128, 32),\n",
    "            nn.BatchNorm1d(32),\n",
    "            nn.ELU(),\n",
    "        )\n",
    "\n",
    "        self.mean_layer = nn.Linear(32, self.num_actions)\n",
    "        self.log_std_parameter = nn.Parameter(torch.zeros(self.num_actions))\n",
    "\n",
    "        self.value_layer = nn.Linear(32, 1)\n",
    "\n",
    "    def act(self, inputs, role):\n",
    "        if role == \"policy\":\n",
    "            return MultiCategoricalMixin.act(self, inputs, role)\n",
    "        elif role == \"value\":\n",
    "            return DeterministicMixin.act(self, inputs, role)\n",
    "\n",
    "    def compute(self, inputs, role):\n",
    "        states = unflatten_tensorized_space(obs, inputs[\"states\"]).permute(0, 2, 1)  # 32, 288, 7\n",
    "\n",
    "        if role == \"policy\":\n",
    "            self._shared_output = self.net(states)\n",
    "            action = self.mean_layer(self._shared_output)\n",
    "            return action, {}\n",
    "        elif role == \"value\":\n",
    "            shared_output = (\n",
    "                self.net(states) if self._shared_output is None else self._shared_output\n",
    "            ) # single forward-pass\n",
    "            self._shared_output = None\n",
    "            value = self.value_layer(shared_output)\n",
    "            return value, {}"
   ]
  },
  {
   "cell_type": "code",
   "execution_count": 7,
   "id": "f557769b",
   "metadata": {},
   "outputs": [],
   "source": [
    "models = {}\n",
    "models[\"policy\"] = Shared(env.observation_space, env.action_space, device)\n",
    "models[\"value\"] = models[\"policy\"]\n",
    "\n",
    "for model in models.values():\n",
    "    model.init_parameters(method_name=\"normal_\", mean=0.0, std=0.1)"
   ]
  },
  {
   "cell_type": "code",
   "execution_count": 8,
   "id": "937d3fe4",
   "metadata": {},
   "outputs": [],
   "source": [
    "from skrl.agents.torch.ppo import PPO_DEFAULT_CONFIG\n",
    "\n",
    "cfg = PPO_DEFAULT_CONFIG.copy()\n",
    "cfg[\"rollouts\"] = memory_size\n",
    "cfg[\"learning_epochs\"] = 64\n",
    "cfg[\"mini_batches\"] = 4\n",
    "cfg[\"discount_factor\"] = 0.99\n",
    "cfg[\"learning_rate\"] = 0\n",
    "cfg[\"learning_starts\"] = 0\n",
    "cfg[\"learning_rate_scheduler\"] = CosineAnnealingWarmUpRestarts\n",
    "cfg[\"learning_rate_scheduler_kwargs\"] = {\n",
    "    \"T_0\": 16 * cfg[\"learning_epochs\"],\n",
    "    \"T_mult\": 2,\n",
    "    \"T_up\": cfg[\"learning_epochs\"],\n",
    "    \"eta_max\": 1e-3,\n",
    "    \"gamma\": 0.8,\n",
    "}\n",
    "\n",
    "cfg[\"experiment\"][\"write_interval\"] = 1000 * 8\n",
    "cfg[\"experiment\"][\"checkpoint_interval\"] = 100000\n",
    "cfg[\"experiment\"][\"directory\"] = \"runs/torch/mddt\""
   ]
  },
  {
   "cell_type": "code",
   "execution_count": 9,
   "id": "92829202",
   "metadata": {},
   "outputs": [],
   "source": [
    "import warnings\n",
    "from skrl.agents.torch.ppo import PPO\n",
    "\n",
    "warnings.simplefilter(action='ignore', category=FutureWarning)\n",
    "warnings.simplefilter(action='ignore', category=DeprecationWarning)\n",
    "\n",
    "agent = PPO(\n",
    "    models=models,\n",
    "    memory=memory,\n",
    "    cfg=cfg,\n",
    "    observation_space=env.observation_space,\n",
    "    action_space=env.action_space,\n",
    "    device=device,\n",
    ")\n",
    "cfg_trainer = {\"timesteps\": 10000000, \"headless\": True, \"environment_info\": \"pc_counter\"}\n",
    "trainer = ParallelTrainer(cfg=cfg_trainer, env=env, agents=[agent])\n",
    "# agent.track_data(\"Episode/Position changed\")"
   ]
  },
  {
   "cell_type": "code",
   "execution_count": null,
   "id": "96f974dd",
   "metadata": {},
   "outputs": [
    {
     "name": "stdout",
     "output_type": "stream",
     "text": [
      "  1%|▏         | 148255/10000000 [09:14<6:22:36, 429.16it/s] "
     ]
    }
   ],
   "source": [
    "trainer.train()"
   ]
  }
 ],
 "metadata": {
  "kernelspec": {
   "display_name": ".venv",
   "language": "python",
   "name": "python3"
  },
  "language_info": {
   "codemirror_mode": {
    "name": "ipython",
    "version": 3
   },
   "file_extension": ".py",
   "mimetype": "text/x-python",
   "name": "python",
   "nbconvert_exporter": "python",
   "pygments_lexer": "ipython3",
   "version": "3.10.12"
  }
 },
 "nbformat": 4,
 "nbformat_minor": 5
}
