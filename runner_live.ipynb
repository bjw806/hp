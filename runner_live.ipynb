{
 "cells": [
  {
   "cell_type": "code",
   "execution_count": 1,
   "id": "initial_id",
   "metadata": {
    "ExecuteTime": {
     "end_time": "2024-03-14T06:30:53.295303400Z",
     "start_time": "2024-03-14T06:30:47.841350100Z"
    }
   },
   "outputs": [],
   "source": [
    "import warnings\n",
    "import time\n",
    "import math\n",
    "\n",
    "import gymnasium as gym\n",
    "import torch\n",
    "import torch.nn as nn\n",
    "from gym_trading_env.renderer import Renderer\n",
    "from skrl.agents.torch.ppo import PPO, PPO_DEFAULT_CONFIG\n",
    "from skrl.envs.wrappers.torch import wrap_env\n",
    "from skrl.memories.torch import RandomMemory\n",
    "from skrl.models.torch import DeterministicMixin, Model, GaussianMixin, MultivariateGaussianMixin\n",
    "from skrl.resources.schedulers.torch import KLAdaptiveLR\n",
    "from skrl.trainers.torch import ParallelTrainer\n",
    "from skrl.utils import set_seed\n",
    "from skrl.utils.spaces.torch import unflatten_tensorized_space\n",
    "from torch.nn import TransformerEncoder, TransformerEncoderLayer\n",
    "\n",
    "from preprocess import preprocess\n"
   ]
  },
  {
   "cell_type": "code",
   "execution_count": 2,
   "id": "97f95c0e",
   "metadata": {},
   "outputs": [
    {
     "name": "stderr",
     "output_type": "stream",
     "text": [
      "\u001b[38;20m[skrl:INFO] Seed: 42\u001b[0m\n",
      "binanceusdm requires to release all resources with an explicit call to the .close() coroutine. If you are using the exchange instance with async coroutines, add `await exchange.close()` to your code into a place when you're done with the exchange and don't need the exchange instance anymore (at the end of your async coroutine).\n",
      "Exception ignored in: <function ClientSession.__del__ at 0x7aaf92995e10>\n",
      "Traceback (most recent call last):\n",
      "  File \"/home/pitin/Desktop/hp/.venv/lib/python3.10/site-packages/aiohttp/client.py\", line 437, in __del__\n",
      "    _warnings.warn(\n",
      "ResourceWarning: Unclosed client session <aiohttp.client.ClientSession object at 0x7aaf91268b80>\n",
      "Exception ignored in: <function BaseConnector.__del__ at 0x7aaf929455a0>\n",
      "Traceback (most recent call last):\n",
      "  File \"/home/pitin/Desktop/hp/.venv/lib/python3.10/site-packages/aiohttp/connector.py\", line 321, in __del__\n",
      "    _warnings.warn(f\"Unclosed connector {self!r}\", ResourceWarning, **kwargs)\n",
      "ResourceWarning: Unclosed connector <aiohttp.connector.TCPConnector object at 0x7aaf91268b20>\n",
      "\u001b[38;20m[skrl:INFO] Environment wrapper: gymnasium\u001b[0m\n",
      "\u001b[33;20m[skrl:WARNING] Failed to check for a vectorized environment: module 'gymnasium.experimental' has no attribute 'vector'\u001b[0m\n"
     ]
    }
   ],
   "source": [
    "set_seed(42)\n",
    "\n",
    "gym.register(\n",
    "    id=\"DiscretedTradingEnv\",\n",
    "    entry_point=\"predict_live:DiscretedTradingEnv\",\n",
    "    disable_env_checker=True,\n",
    ")\n",
    "\n",
    "env_cfg = dict(\n",
    "    id=\"DiscretedTradingEnv\",\n",
    "    preprocess=preprocess,\n",
    "    max_episode_duration=\"max\",\n",
    "    verbose=1,\n",
    "    leverage=10,\n",
    "    stop_loss=-0.1,\n",
    "    take_profit=0.1,\n",
    "    window_size=30,\n",
    "    # btc_index=True,\n",
    ")\n",
    "env = gym.make(**env_cfg)\n",
    "obs = env.observation_space\n",
    "env = wrap_env(env, wrapper=\"gymnasium\")\n",
    "\n",
    "device = env.device\n",
    "replay_buffer_size = 1024 * 1 * env.num_envs\n",
    "memory_size = int(replay_buffer_size / env.num_envs)"
   ]
  },
  {
   "cell_type": "code",
   "execution_count": 3,
   "id": "56296328",
   "metadata": {},
   "outputs": [],
   "source": [
    "class LearnablePositionalEncoding(nn.Module):\n",
    "    def __init__(self, d_model, max_len=524288):\n",
    "        super().__init__()\n",
    "        self.position_embedding = nn.Embedding(max_len, d_model)\n",
    "\n",
    "    def forward(self, x):\n",
    "        batch_size, seq_len, _ = x.size()\n",
    "        positions = torch.arange(0, seq_len, device=x.device).unsqueeze(0)\n",
    "        positions = positions.expand(batch_size, seq_len)\n",
    "        position_encoded = self.position_embedding(positions)\n",
    "        return x + position_encoded\n",
    "\n",
    "\n",
    "class SharedNoFC(MultivariateGaussianMixin, DeterministicMixin, Model):\n",
    "    def __init__(\n",
    "        self,\n",
    "        observation_space,\n",
    "        action_space,\n",
    "        device,\n",
    "        clip_actions=False,\n",
    "        clip_log_std=True,\n",
    "        min_log_std=-20,\n",
    "        max_log_std=2,\n",
    "    ):\n",
    "        Model.__init__(self, observation_space, action_space, device)\n",
    "        MultivariateGaussianMixin.__init__(self, clip_actions, clip_log_std, min_log_std, max_log_std)\n",
    "        DeterministicMixin.__init__(self, clip_actions)\n",
    "\n",
    "        self._shared_features = None\n",
    "        self.num_features = 7\n",
    "        self.net_projection = nn.Sequential(\n",
    "            nn.Conv1d(self.num_features, 8, kernel_size=1, padding=1),\n",
    "        )\n",
    "\n",
    "        # Transformer Encoder for self-attention\n",
    "        transformer_layer = TransformerEncoderLayer(\n",
    "            d_model=8,  # The size of the input feature vector\n",
    "            nhead=4,  # Number of attention heads\n",
    "            dim_feedforward=256,  # The size of the feedforward network in the encoder\n",
    "            # dropout=0.1,\n",
    "            batch_first=True,  # Use batch_first for better inference performance\n",
    "        )\n",
    "        self.positional_encoding = LearnablePositionalEncoding(d_model=8)\n",
    "        self.transformer_encoder = TransformerEncoder(transformer_layer, num_layers=2)\n",
    "\n",
    "        # Output heads using Conv1d with additional layers to capture interactions\n",
    "        self.policy_head = nn.Sequential(\n",
    "            nn.Conv1d(8, 8, kernel_size=3, padding=1),\n",
    "            nn.ReLU(),\n",
    "            nn.Conv1d(8, self.num_actions, kernel_size=1),  # 7 = seq_length\n",
    "            nn.AdaptiveAvgPool1d(1),  # 마지막에 시퀀스 길이를 1로 줄임\\\n",
    "        )\n",
    "        self.value_head = nn.Sequential(\n",
    "            nn.Conv1d(8, 8, kernel_size=3, padding=1),\n",
    "            nn.ReLU(),\n",
    "            nn.Conv1d(8, 1, kernel_size=1),\n",
    "            nn.AdaptiveAvgPool1d(1),\n",
    "        )\n",
    "        self.log_std_parameter = nn.Parameter(torch.zeros(self.num_actions))\n",
    "\n",
    "    def act(self, inputs, role):\n",
    "        if role == \"policy\":\n",
    "            return MultivariateGaussianMixin.act(self, inputs, role)\n",
    "        # elif role == \"value\":\n",
    "        #     return DeterministicMixin.act(self, inputs, role)\n",
    "\n",
    "    def compute(self, inputs, role):\n",
    "        states = unflatten_tensorized_space(obs, inputs[\"states\"])\n",
    "\n",
    "        if role == \"policy\":\n",
    "            features = states.permute(0, 2, 1)\n",
    "            features = self.net_projection(features)\n",
    "            features = self.positional_encoding(\n",
    "                features.permute(0, 2, 1)\n",
    "            )  # torch.Size([32, 7, 128])\n",
    "            features = features + self.transformer_encoder(\n",
    "                features\n",
    "            )  # torch.Size([32, 7, 128])\n",
    "\n",
    "            self._shared_features = features.permute(\n",
    "                0, 2, 1\n",
    "            )  # torch.Size([32, 128, 7])\n",
    "            actions = self.policy_head(self._shared_features)  # torch.Size([32, 5, 1])\n",
    "            print(self.log_std_parameter)\n",
    "            return actions.squeeze(-1), self.log_std_parameter, {}  # torch.Size([32, 5])\n",
    "\n",
    "        # elif role == \"value\":\n",
    "        #     if self._shared_features is None:\n",
    "        #         features = states.permute(0, 2, 1)\n",
    "        #         features = self.net_projection(features)\n",
    "        #         features = self.positional_encoding(features.permute(0, 2, 1))\n",
    "        #         features = features + self.transformer_encoder(features)\n",
    "\n",
    "        #         shared_features = features.permute(0, 2, 1)\n",
    "        #     else:\n",
    "        #         shared_features = self._shared_features\n",
    "\n",
    "        #     self._shared_output = None\n",
    "\n",
    "        #     value = self.value_head(shared_features)\n",
    "        #     return value.squeeze(-1), {}"
   ]
  },
  {
   "cell_type": "code",
   "execution_count": 4,
   "id": "937d3fe4",
   "metadata": {},
   "outputs": [],
   "source": [
    "models = {}\n",
    "models[\"policy\"] = SharedNoFC(env.observation_space, env.action_space, device)\n",
    "# models[\"value\"] = models[\"policy\"]\n",
    "\n",
    "# for model in models.values():\n",
    "#     model.init_parameters(method_name=\"normal_\", mean=0.0, std=0.1)\n",
    "\n",
    "cfg = PPO_DEFAULT_CONFIG.copy()\n",
    "cfg[\"rollouts\"] = memory_size\n",
    "cfg[\"learning_epochs\"] = 32\n",
    "cfg[\"mini_batches\"] = 16\n",
    "cfg[\"discount_factor\"] = 0.99\n",
    "cfg[\"learning_rate\"] = 5e-4\n",
    "cfg[\"learning_rate_scheduler\"] = KLAdaptiveLR\n",
    "cfg[\"learning_rate_scheduler_kwargs\"] = {\"kl_threshold\": 0.01, \"min_lr\": 1e-7}\n",
    "\n",
    "cfg[\"experiment\"][\"write_interval\"] = 5000\n",
    "cfg[\"experiment\"][\"checkpoint_interval\"] = 100000\n",
    "cfg[\"experiment\"][\"directory\"] = \"runs/torch/mddt\""
   ]
  },
  {
   "cell_type": "code",
   "execution_count": 5,
   "id": "92829202",
   "metadata": {},
   "outputs": [
    {
     "name": "stderr",
     "output_type": "stream",
     "text": [
      "\u001b[33;20m[skrl:WARNING] Cannot load the value module. The agent doesn't have such an instance\u001b[0m\n",
      "\u001b[33;20m[skrl:WARNING] Cannot load the optimizer module. The agent doesn't have such an instance\u001b[0m\n"
     ]
    }
   ],
   "source": [
    "warnings.simplefilter(action='ignore', category=FutureWarning)\n",
    "warnings.simplefilter(action='ignore', category=DeprecationWarning)\n",
    "\n",
    "agent = PPO(\n",
    "    models=models,\n",
    "    memory=None,\n",
    "    cfg=cfg,\n",
    "    observation_space=env.observation_space,\n",
    "    action_space=env.action_space,\n",
    "    device=device,\n",
    ")\n",
    "path = \"24-12-10_14-56-44-982474_PPO\"\n",
    "# path = \"24-12-10_11-34-51-118959_PPO\"\n",
    "# path = \"24-12-09_08-17-35-656338_PPO\"\n",
    "# path = \"24-12-06_13-42-35-434197_PPO\"\n",
    "agent.load(f\"/home/pitin/Desktop/hp/runs/torch/mddt/{path}/checkpoints/best_agent.pt\")\n",
    "cfg_trainer = {\"timesteps\": 10000000, \"headless\": True, \"environment_info\": \"pc_counter\"}\n",
    "trainer = ParallelTrainer(cfg=cfg_trainer, env=env, agents=[agent])"
   ]
  },
  {
   "cell_type": "code",
   "execution_count": 6,
   "id": "46d00384",
   "metadata": {},
   "outputs": [
    {
     "name": "stdout",
     "output_type": "stream",
     "text": [
      "  0%|          | 0/10000000 [00:00<?, ?it/s]Parameter containing:\n",
      "tensor([-2.9427, -3.3000, -3.3176, -3.1206], device='cuda:0',\n",
      "       requires_grad=True)\n",
      "[3597.01 3614.54 3583.35 3583.5 ]\n",
      "[3574.9456 3588.7498 3576.5095 3587.6833]\n",
      "  0%|          | 0/10000000 [00:00<?, ?it/s]\n"
     ]
    },
    {
     "ename": "IndexError",
     "evalue": "index 30 is out of bounds for axis 0 with size 30",
     "output_type": "error",
     "traceback": [
      "\u001b[0;31m---------------------------------------------------------------------------\u001b[0m",
      "\u001b[0;31mIndexError\u001b[0m                                Traceback (most recent call last)",
      "Cell \u001b[0;32mIn[6], line 1\u001b[0m\n\u001b[0;32m----> 1\u001b[0m \u001b[43mtrainer\u001b[49m\u001b[38;5;241;43m.\u001b[39;49m\u001b[43meval\u001b[49m\u001b[43m(\u001b[49m\u001b[43m)\u001b[49m\n",
      "File \u001b[0;32m~/Desktop/hp/.venv/lib/python3.10/site-packages/skrl/trainers/torch/parallel.py:304\u001b[0m, in \u001b[0;36mParallelTrainer.eval\u001b[0;34m(self)\u001b[0m\n\u001b[1;32m    302\u001b[0m \u001b[38;5;66;03m# single-agent\u001b[39;00m\n\u001b[1;32m    303\u001b[0m \u001b[38;5;28;01mif\u001b[39;00m \u001b[38;5;28mself\u001b[39m\u001b[38;5;241m.\u001b[39menv\u001b[38;5;241m.\u001b[39mnum_agents \u001b[38;5;241m==\u001b[39m \u001b[38;5;241m1\u001b[39m:\n\u001b[0;32m--> 304\u001b[0m     \u001b[38;5;28;43mself\u001b[39;49m\u001b[38;5;241;43m.\u001b[39;49m\u001b[43msingle_agent_eval\u001b[49m\u001b[43m(\u001b[49m\u001b[43m)\u001b[49m\n\u001b[1;32m    305\u001b[0m \u001b[38;5;66;03m# multi-agent\u001b[39;00m\n\u001b[1;32m    306\u001b[0m \u001b[38;5;28;01melse\u001b[39;00m:\n\u001b[1;32m    307\u001b[0m     \u001b[38;5;28mself\u001b[39m\u001b[38;5;241m.\u001b[39mmulti_agent_eval()\n",
      "File \u001b[0;32m~/Desktop/hp/.venv/lib/python3.10/site-packages/skrl/trainers/torch/base.py:266\u001b[0m, in \u001b[0;36mTrainer.single_agent_eval\u001b[0;34m(self)\u001b[0m\n\u001b[1;32m    263\u001b[0m actions \u001b[38;5;241m=\u001b[39m \u001b[38;5;28mself\u001b[39m\u001b[38;5;241m.\u001b[39magents\u001b[38;5;241m.\u001b[39mact(states, timestep\u001b[38;5;241m=\u001b[39mtimestep, timesteps\u001b[38;5;241m=\u001b[39m\u001b[38;5;28mself\u001b[39m\u001b[38;5;241m.\u001b[39mtimesteps)[\u001b[38;5;241m0\u001b[39m]\n\u001b[1;32m    265\u001b[0m \u001b[38;5;66;03m# step the environments\u001b[39;00m\n\u001b[0;32m--> 266\u001b[0m next_states, rewards, terminated, truncated, infos \u001b[38;5;241m=\u001b[39m \u001b[38;5;28;43mself\u001b[39;49m\u001b[38;5;241;43m.\u001b[39;49m\u001b[43menv\u001b[49m\u001b[38;5;241;43m.\u001b[39;49m\u001b[43mstep\u001b[49m\u001b[43m(\u001b[49m\u001b[43mactions\u001b[49m\u001b[43m)\u001b[49m\n\u001b[1;32m    268\u001b[0m \u001b[38;5;66;03m# render scene\u001b[39;00m\n\u001b[1;32m    269\u001b[0m \u001b[38;5;28;01mif\u001b[39;00m \u001b[38;5;129;01mnot\u001b[39;00m \u001b[38;5;28mself\u001b[39m\u001b[38;5;241m.\u001b[39mheadless:\n",
      "File \u001b[0;32m~/Desktop/hp/.venv/lib/python3.10/site-packages/skrl/envs/wrappers/torch/gymnasium_envs.py:65\u001b[0m, in \u001b[0;36mGymnasiumWrapper.step\u001b[0;34m(self, actions)\u001b[0m\n\u001b[1;32m     51\u001b[0m \u001b[38;5;250m\u001b[39m\u001b[38;5;124;03m\"\"\"Perform a step in the environment\u001b[39;00m\n\u001b[1;32m     52\u001b[0m \n\u001b[1;32m     53\u001b[0m \u001b[38;5;124;03m:param actions: The actions to perform\u001b[39;00m\n\u001b[0;32m   (...)\u001b[0m\n\u001b[1;32m     57\u001b[0m \u001b[38;5;124;03m:rtype: tuple of torch.Tensor and any other info\u001b[39;00m\n\u001b[1;32m     58\u001b[0m \u001b[38;5;124;03m\"\"\"\u001b[39;00m\n\u001b[1;32m     59\u001b[0m actions \u001b[38;5;241m=\u001b[39m untensorize_space(\n\u001b[1;32m     60\u001b[0m     \u001b[38;5;28mself\u001b[39m\u001b[38;5;241m.\u001b[39maction_space,\n\u001b[1;32m     61\u001b[0m     unflatten_tensorized_space(\u001b[38;5;28mself\u001b[39m\u001b[38;5;241m.\u001b[39maction_space, actions),\n\u001b[1;32m     62\u001b[0m     squeeze_batch_dimension\u001b[38;5;241m=\u001b[39m\u001b[38;5;129;01mnot\u001b[39;00m \u001b[38;5;28mself\u001b[39m\u001b[38;5;241m.\u001b[39m_vectorized,\n\u001b[1;32m     63\u001b[0m )\n\u001b[0;32m---> 65\u001b[0m observation, reward, terminated, truncated, info \u001b[38;5;241m=\u001b[39m \u001b[38;5;28;43mself\u001b[39;49m\u001b[38;5;241;43m.\u001b[39;49m\u001b[43m_env\u001b[49m\u001b[38;5;241;43m.\u001b[39;49m\u001b[43mstep\u001b[49m\u001b[43m(\u001b[49m\u001b[43mactions\u001b[49m\u001b[43m)\u001b[49m\n\u001b[1;32m     67\u001b[0m \u001b[38;5;66;03m# convert response to torch\u001b[39;00m\n\u001b[1;32m     68\u001b[0m observation \u001b[38;5;241m=\u001b[39m flatten_tensorized_space(tensorize_space(\u001b[38;5;28mself\u001b[39m\u001b[38;5;241m.\u001b[39mobservation_space, observation, \u001b[38;5;28mself\u001b[39m\u001b[38;5;241m.\u001b[39mdevice))\n",
      "File \u001b[0;32m~/Desktop/hp/.venv/lib/python3.10/site-packages/gymnasium/wrappers/common.py:393\u001b[0m, in \u001b[0;36mOrderEnforcing.step\u001b[0;34m(self, action)\u001b[0m\n\u001b[1;32m    391\u001b[0m \u001b[38;5;28;01mif\u001b[39;00m \u001b[38;5;129;01mnot\u001b[39;00m \u001b[38;5;28mself\u001b[39m\u001b[38;5;241m.\u001b[39m_has_reset:\n\u001b[1;32m    392\u001b[0m     \u001b[38;5;28;01mraise\u001b[39;00m ResetNeeded(\u001b[38;5;124m\"\u001b[39m\u001b[38;5;124mCannot call env.step() before calling env.reset()\u001b[39m\u001b[38;5;124m\"\u001b[39m)\n\u001b[0;32m--> 393\u001b[0m \u001b[38;5;28;01mreturn\u001b[39;00m \u001b[38;5;28;43msuper\u001b[39;49m\u001b[43m(\u001b[49m\u001b[43m)\u001b[49m\u001b[38;5;241;43m.\u001b[39;49m\u001b[43mstep\u001b[49m\u001b[43m(\u001b[49m\u001b[43maction\u001b[49m\u001b[43m)\u001b[49m\n",
      "File \u001b[0;32m~/Desktop/hp/.venv/lib/python3.10/site-packages/gymnasium/core.py:322\u001b[0m, in \u001b[0;36mWrapper.step\u001b[0;34m(self, action)\u001b[0m\n\u001b[1;32m    318\u001b[0m \u001b[38;5;28;01mdef\u001b[39;00m \u001b[38;5;21mstep\u001b[39m(\n\u001b[1;32m    319\u001b[0m     \u001b[38;5;28mself\u001b[39m, action: WrapperActType\n\u001b[1;32m    320\u001b[0m ) \u001b[38;5;241m-\u001b[39m\u001b[38;5;241m>\u001b[39m \u001b[38;5;28mtuple\u001b[39m[WrapperObsType, SupportsFloat, \u001b[38;5;28mbool\u001b[39m, \u001b[38;5;28mbool\u001b[39m, \u001b[38;5;28mdict\u001b[39m[\u001b[38;5;28mstr\u001b[39m, Any]]:\n\u001b[1;32m    321\u001b[0m \u001b[38;5;250m    \u001b[39m\u001b[38;5;124;03m\"\"\"Uses the :meth:`step` of the :attr:`env` that can be overwritten to change the returned data.\"\"\"\u001b[39;00m\n\u001b[0;32m--> 322\u001b[0m     \u001b[38;5;28;01mreturn\u001b[39;00m \u001b[38;5;28;43mself\u001b[39;49m\u001b[38;5;241;43m.\u001b[39;49m\u001b[43menv\u001b[49m\u001b[38;5;241;43m.\u001b[39;49m\u001b[43mstep\u001b[49m\u001b[43m(\u001b[49m\u001b[43maction\u001b[49m\u001b[43m)\u001b[49m\n",
      "File \u001b[0;32m~/Desktop/hp/predict_live.py:296\u001b[0m, in \u001b[0;36mDiscretedTradingEnv.step\u001b[0;34m(self, ohlc)\u001b[0m\n\u001b[1;32m    293\u001b[0m \u001b[38;5;28mself\u001b[39m\u001b[38;5;241m.\u001b[39m_step \u001b[38;5;241m+\u001b[39m\u001b[38;5;241m=\u001b[39m \u001b[38;5;241m1\u001b[39m\n\u001b[1;32m    295\u001b[0m \u001b[38;5;28mself\u001b[39m\u001b[38;5;241m.\u001b[39m_take_action_order_limit()\n\u001b[0;32m--> 296\u001b[0m price \u001b[38;5;241m=\u001b[39m \u001b[38;5;28;43mself\u001b[39;49m\u001b[38;5;241;43m.\u001b[39;49m\u001b[43m_get_price\u001b[49m\u001b[43m(\u001b[49m\u001b[43m)\u001b[49m\n\u001b[1;32m    297\u001b[0m \u001b[38;5;28mself\u001b[39m\u001b[38;5;241m.\u001b[39m_portfolio\u001b[38;5;241m.\u001b[39mupdate_interest(borrow_interest_rate\u001b[38;5;241m=\u001b[39m\u001b[38;5;28mself\u001b[39m\u001b[38;5;241m.\u001b[39mborrow_interest_rate)\n\u001b[1;32m    299\u001b[0m portfolio_value \u001b[38;5;241m=\u001b[39m \u001b[38;5;28mself\u001b[39m\u001b[38;5;241m.\u001b[39m_portfolio\u001b[38;5;241m.\u001b[39mvalorisation(price)\n",
      "File \u001b[0;32m~/Desktop/hp/predict_live.py:157\u001b[0m, in \u001b[0;36mDiscretedTradingEnv._get_price\u001b[0;34m(self, delta)\u001b[0m\n\u001b[1;32m    156\u001b[0m \u001b[38;5;28;01mdef\u001b[39;00m \u001b[38;5;21m_get_price\u001b[39m(\u001b[38;5;28mself\u001b[39m, delta\u001b[38;5;241m=\u001b[39m\u001b[38;5;241m0\u001b[39m):\n\u001b[0;32m--> 157\u001b[0m     \u001b[38;5;28;01mreturn\u001b[39;00m \u001b[38;5;28;43mself\u001b[39;49m\u001b[38;5;241;43m.\u001b[39;49m\u001b[43m_price_array\u001b[49m\u001b[43m[\u001b[49m\u001b[38;5;28;43mself\u001b[39;49m\u001b[38;5;241;43m.\u001b[39;49m\u001b[43m_idx\u001b[49m\u001b[43m \u001b[49m\u001b[38;5;241;43m+\u001b[39;49m\u001b[43m \u001b[49m\u001b[43mdelta\u001b[49m\u001b[43m]\u001b[49m\n",
      "\u001b[0;31mIndexError\u001b[0m: index 30 is out of bounds for axis 0 with size 30"
     ]
    }
   ],
   "source": [
    "trainer.eval()"
   ]
  },
  {
   "cell_type": "code",
   "execution_count": null,
   "id": "c4d700cc",
   "metadata": {},
   "outputs": [],
   "source": [
    "states, infos = env.reset()\n",
    "timestep = 0\n",
    "timesteps = 3000\n",
    "terminated = torch.tensor([[False] * env.num_envs])\n",
    "\n",
    "agent.pre_interaction(timestep=timestep, timesteps=timesteps)\n",
    "\n",
    "with torch.no_grad():\n",
    "    actions = agent.act(states, timestep=timestep, timesteps=timesteps)[0]\n",
    "    next_states, rewards, terminated, truncated, infos = env.step(actions)\n",
    "    env.render()\n",
    "\n",
    "super(type(agent), agent).post_interaction(timestep=timestep, timesteps=timesteps)\n",
    "\n",
    "if env.num_envs > 1:\n",
    "    states = next_states\n",
    "else:\n",
    "    if terminated.any() or truncated.any():\n",
    "        with torch.no_grad():\n",
    "            states, infos = env.reset()\n",
    "    else:\n",
    "        states = next_states\n"
   ]
  },
  {
   "cell_type": "code",
   "execution_count": null,
   "id": "f5bd1364",
   "metadata": {},
   "outputs": [],
   "source": []
  },
  {
   "cell_type": "code",
   "execution_count": null,
   "id": "cd8e6135",
   "metadata": {},
   "outputs": [],
   "source": [
    "# AVAX\n",
    "# ADA\n",
    "# SOL\n",
    "# ETH\n",
    "# BNB\n",
    "# XLM"
   ]
  },
  {
   "cell_type": "code",
   "execution_count": null,
   "id": "98e6bddb",
   "metadata": {},
   "outputs": [],
   "source": [
    "# env.save_for_render()"
   ]
  },
  {
   "cell_type": "code",
   "execution_count": null,
   "id": "85fdf4a1",
   "metadata": {},
   "outputs": [],
   "source": [
    "# renderer = Renderer(render_logs_dir=\"render_logs\")\n",
    "# renderer.run()"
   ]
  }
 ],
 "metadata": {
  "kernelspec": {
   "display_name": ".venv",
   "language": "python",
   "name": "python3"
  },
  "language_info": {
   "codemirror_mode": {
    "name": "ipython",
    "version": 3
   },
   "file_extension": ".py",
   "mimetype": "text/x-python",
   "name": "python",
   "nbconvert_exporter": "python",
   "pygments_lexer": "ipython3",
   "version": "3.10.12"
  }
 },
 "nbformat": 4,
 "nbformat_minor": 5
}
