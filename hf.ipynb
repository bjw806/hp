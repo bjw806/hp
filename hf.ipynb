{
 "cells": [
  {
   "cell_type": "code",
   "execution_count": null,
   "id": "initial_id",
   "metadata": {
    "ExecuteTime": {
     "end_time": "2024-03-14T06:30:53.295303400Z",
     "start_time": "2024-03-14T06:30:47.841350100Z"
    }
   },
   "outputs": [
    {
     "name": "stderr",
     "output_type": "stream",
     "text": [
      "\u001b[38;20m[skrl:INFO] Seed: 42\u001b[0m\n"
     ]
    }
   ],
   "source": [
    "import gymnasium as gym\n",
    "import torch\n",
    "from skrl.utils import set_seed\n",
    "from preprocess import preprocess\n",
    "from transformers import DecisionTransformerConfig, DecisionTransformerModel\n",
    "\n",
    "set_seed(42)\n",
    "\n",
    "gym.register(\n",
    "    id=\"MultiDatasetDiscretedTradingEnv\",\n",
    "    entry_point=\"mc_env:MultiDatasetDiscretedTradingEnv\",\n",
    "    disable_env_checker=True,\n",
    ")"
   ]
  },
  {
   "cell_type": "code",
   "execution_count": null,
   "id": "97f95c0e",
   "metadata": {},
   "outputs": [],
   "source": [
    "env_cfg = dict(\n",
    "    id=\"MultiDatasetDiscretedTradingEnv\",\n",
    "    dataset_dir=\"./data/train/month_15m/**/**/*.pkl\",\n",
    "    preprocess=preprocess,\n",
    "    positions=[-1, 1],\n",
    "    multiplier=[1, 2, 5],\n",
    "    trading_fees=0.01,\n",
    "    borrow_interest_rate=0.03,\n",
    "    portfolio_initial_value=1e4,\n",
    "    max_episode_duration=1000,\n",
    "    verbose=0,\n",
    "    window_size=60,\n",
    ")"
   ]
  },
  {
   "cell_type": "code",
   "execution_count": null,
   "id": "e3a085e1",
   "metadata": {},
   "outputs": [],
   "source": [
    "configuration = DecisionTransformerConfig()\n",
    "model = DecisionTransformerModel(configuration)\n",
    "configuration = model.config"
   ]
  },
  {
   "cell_type": "code",
   "execution_count": null,
   "id": "3a91dbf0",
   "metadata": {},
   "outputs": [
    {
     "name": "stderr",
     "output_type": "stream",
     "text": [
      "\u001b[38;20m[skrl:INFO] Environment wrapper: gymnasium\u001b[0m\n"
     ]
    }
   ],
   "source": [
    "env = gym.make(**env_cfg)\n",
    "# env = gym.make_vec(\n",
    "#     vectorization_mode=\"sync\",\n",
    "#     wrappers=[gym.wrappers.FlattenObservation],\n",
    "#     num_envs=32,\n",
    "#     **env_cfg,\n",
    "# )"
   ]
  },
  {
   "cell_type": "code",
   "execution_count": null,
   "id": "96f974dd",
   "metadata": {},
   "outputs": [
    {
     "name": "stdout",
     "output_type": "stream",
     "text": [
      "  0%|          | 32758/30000000 [02:40<18:01:22, 461.87it/s] "
     ]
    }
   ],
   "source": [
    "\n",
    "model = DecisionTransformerModel\n",
    "# evaluation\n",
    "model = model.to(device)\n",
    "model.eval()\n",
    "\n",
    "state_dim = env.observation_space.shape[0]\n",
    "act_dim = env.action_space.shape[0]\n",
    "\n",
    "state = env.reset()\n",
    "states = torch.from_numpy(state).reshape(1, 1, state_dim).to(device=device, dtype=torch.float32)\n",
    "actions = torch.zeros((1, 1, act_dim), device=device, dtype=torch.float32)\n",
    "rewards = torch.zeros(1, 1, device=device, dtype=torch.float32)\n",
    "target_return = torch.tensor(TARGET_RETURN, dtype=torch.float32).reshape(1, 1)\n",
    "timesteps = torch.tensor(0, device=device, dtype=torch.long).reshape(1, 1)\n",
    "attention_mask = torch.zeros(1, 1, device=device, dtype=torch.float32)\n",
    "\n",
    "# forward pass\n",
    "with torch.no_grad():\n",
    "    state_preds, action_preds, return_preds = model(\n",
    "        states=states,\n",
    "        actions=actions,\n",
    "        rewards=rewards,\n",
    "        returns_to_go=target_return,\n",
    "        timesteps=timesteps,\n",
    "        attention_mask=attention_mask,\n",
    "        return_dict=False,\n",
    "    )"
   ]
  }
 ],
 "metadata": {
  "kernelspec": {
   "display_name": ".venv",
   "language": "python",
   "name": "python3"
  },
  "language_info": {
   "codemirror_mode": {
    "name": "ipython",
    "version": 3
   },
   "file_extension": ".py",
   "mimetype": "text/x-python",
   "name": "python",
   "nbconvert_exporter": "python",
   "pygments_lexer": "ipython3",
   "version": "3.10.12"
  }
 },
 "nbformat": 4,
 "nbformat_minor": 5
}
