{
 "cells": [
  {
   "cell_type": "code",
   "execution_count": 1,
   "id": "initial_id",
   "metadata": {
    "ExecuteTime": {
     "end_time": "2024-03-14T06:30:53.295303400Z",
     "start_time": "2024-03-14T06:30:47.841350100Z"
    }
   },
   "outputs": [],
   "source": [
    "import gymnasium as gym\n",
    "import torch\n",
    "from skrl.envs.wrappers.torch import wrap_env\n",
    "from skrl.memories.torch import RandomMemory\n",
    "from skrl.trainers.torch import SequentialTrainer\n",
    "from skrl.utils import set_seed\n",
    "from skrl.utils.model_instantiators.torch import Shape, deterministic_model\n",
    "from reward import refined_pnl\n",
    "from preprocess import only_sub_indicators\n",
    "\n",
    "gym.register(\n",
    "    id=\"MultiDatasetDiscretedTradingEnv\",\n",
    "    entry_point=\"environment:MultiDatasetDiscretedTradingEnv\",\n",
    "    disable_env_checker=True,\n",
    ")"
   ]
  },
  {
   "cell_type": "code",
   "execution_count": null,
   "id": "34eaee70e65df757",
   "metadata": {
    "collapsed": false,
    "jupyter": {
     "outputs_hidden": false
    }
   },
   "outputs": [],
   "source": [
    "set_seed(42)"
   ]
  },
  {
   "cell_type": "code",
   "execution_count": 6,
   "id": "3a91dbf0",
   "metadata": {},
   "outputs": [],
   "source": [
    "env = gym.make_vec(\n",
    "    \"MultiDatasetDiscretedTradingEnv\",\n",
    "    vectorization_mode=\"async\",\n",
    "    num_envs=16,\n",
    "    wrappers=[gym.wrappers.FlattenObservation],\n",
    "    dataset_dir=\"./data/train/day/**/**/*.pkl\",\n",
    "    preprocess=only_sub_indicators,\n",
    "    reward_function=refined_pnl,\n",
    "    positions=[-5, -2, 0, 2, 5],\n",
    "    trading_fees=0.0001,\n",
    "    borrow_interest_rate=0.0003,\n",
    "    portfolio_initial_value=100,\n",
    "    max_episode_duration=\"max\",  # 24 * 60,\n",
    "    verbose=0,\n",
    "    window_size=120,\n",
    ")"
   ]
  },
  {
   "cell_type": "code",
   "execution_count": null,
   "id": "982d6eaf",
   "metadata": {},
   "outputs": [],
   "source": [
    "env = wrap_env(env, wrapper=\"gymnasium\")"
   ]
  },
  {
   "cell_type": "code",
   "execution_count": 8,
   "id": "3eb84657",
   "metadata": {},
   "outputs": [],
   "source": [
    "device = env.device\n",
    "memory = RandomMemory(memory_size=4096, num_envs=env.num_envs, device=device, replacement=False)"
   ]
  },
  {
   "cell_type": "code",
   "execution_count": null,
   "id": "113c3a86",
   "metadata": {},
   "outputs": [],
   "source": [
    "models = {}\n",
    "models[\"q_network\"] = deterministic_model(\n",
    "    observation_space=env.observation_space,\n",
    "    action_space=env.action_space,\n",
    "    device=device,\n",
    "    clip_actions=False,\n",
    "    input_shape=Shape.OBSERVATIONS,\n",
    "    hiddens=[64, 64],\n",
    "    hidden_activation=[\"relu\", \"relu\"],\n",
    "    output_shape=Shape.ACTIONS,\n",
    "    output_activation=None,\n",
    "    output_scale=1.0,\n",
    ")\n",
    "models[\"target_q_network\"] = deterministic_model(\n",
    "    observation_space=env.observation_space,\n",
    "    action_space=env.action_space,\n",
    "    device=device,\n",
    "    clip_actions=False,\n",
    "    input_shape=Shape.OBSERVATIONS,\n",
    "    hiddens=[64, 64],\n",
    "    hidden_activation=[\"relu\", \"relu\"],\n",
    "    output_shape=Shape.ACTIONS,\n",
    "    output_activation=None,\n",
    "    output_scale=1.0,\n",
    ")"
   ]
  },
  {
   "cell_type": "code",
   "execution_count": 10,
   "id": "937d3fe4",
   "metadata": {},
   "outputs": [],
   "source": [
    "from skrl.agents.torch.dqn import DQN\n",
    "from skrl.agents.torch.dqn import DQN_DEFAULT_CONFIG\n",
    "\n",
    "cfg = DQN_DEFAULT_CONFIG.copy()\n",
    "cfg[\"learning_starts\"] = 10000\n",
    "cfg[\"exploration\"][\"final_epsilon\"] = 0.04\n",
    "cfg[\"exploration\"][\"timesteps\"] = 100000\n",
    "# logging to TensorBoard and write checkpoints (in timesteps)\n",
    "cfg[\"experiment\"][\"write_interval\"] = 1000\n",
    "cfg[\"experiment\"][\"checkpoint_interval\"] = 100000\n",
    "cfg[\"experiment\"][\"directory\"] = \"runs/\""
   ]
  },
  {
   "cell_type": "code",
   "execution_count": 11,
   "id": "92829202",
   "metadata": {},
   "outputs": [],
   "source": [
    "agent = DQN(\n",
    "    models=models,\n",
    "    memory=memory,\n",
    "    cfg=cfg,\n",
    "    observation_space=env.observation_space,\n",
    "    action_space=env.action_space,\n",
    "    device=device,\n",
    ")"
   ]
  },
  {
   "cell_type": "code",
   "execution_count": 12,
   "id": "3f7ac080",
   "metadata": {},
   "outputs": [],
   "source": [
    "cfg_trainer = {\"timesteps\": 1000000, \"headless\": True}\n",
    "trainer = SequentialTrainer(cfg=cfg_trainer, env=env, agents=[agent])"
   ]
  },
  {
   "cell_type": "code",
   "execution_count": null,
   "id": "96f974dd",
   "metadata": {},
   "outputs": [],
   "source": [
    "trainer.train()"
   ]
  },
  {
   "cell_type": "code",
   "execution_count": null,
   "id": "e0ac259b",
   "metadata": {},
   "outputs": [],
   "source": [
    "terminated = False\n",
    "observation, info = env.reset()\n",
    "\n",
    "while terminated:\n",
    "    # state-preprocessor + policy\n",
    "    with torch.no_grad():\n",
    "        states = state_preprocessor(states)\n",
    "        actions = policy.act({\"states\": states})[0]\n",
    "\n",
    "    # step the environment\n",
    "    next_states, rewards, terminated, truncated, infos = env.step(actions)\n",
    "\n",
    "    # render the environment\n",
    "    env.render()\n",
    "\n",
    "    # check for termination/truncation\n",
    "    if terminated.any() or truncated.any():\n",
    "        states, infos = env.reset()\n",
    "    else:\n",
    "        states = next_states"
   ]
  }
 ],
 "metadata": {
  "kernelspec": {
   "display_name": "Python 3 (ipykernel)",
   "language": "python",
   "name": "python3"
  },
  "language_info": {
   "codemirror_mode": {
    "name": "ipython",
    "version": 3
   },
   "file_extension": ".py",
   "mimetype": "text/x-python",
   "name": "python",
   "nbconvert_exporter": "python",
   "pygments_lexer": "ipython3",
   "version": "3.12.4"
  }
 },
 "nbformat": 4,
 "nbformat_minor": 5
}
