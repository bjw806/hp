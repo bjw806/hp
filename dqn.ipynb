{
 "cells": [
  {
   "cell_type": "code",
   "execution_count": null,
   "id": "initial_id",
   "metadata": {
    "ExecuteTime": {
     "end_time": "2024-03-14T06:30:53.295303400Z",
     "start_time": "2024-03-14T06:30:47.841350100Z"
    }
   },
   "outputs": [],
   "source": [
    "import gymnasium as gym\n",
    "import torch\n",
    "from skrl.envs.wrappers.torch import wrap_env\n",
    "from skrl.memories.torch import RandomMemory\n",
    "from skrl.trainers.torch import SequentialTrainer\n",
    "from skrl.utils import set_seed\n",
    "from skrl.utils.model_instantiators.torch import Shape, deterministic_model\n",
    "from reward import refined_pnl\n",
    "from preprocess import only_sub_indicators\n",
    "\n",
    "gym.register(\n",
    "    id=\"MultiDatasetDiscretedTradingEnv\",\n",
    "    entry_point=\"environment:MultiDatasetDiscretedTradingEnv\",\n",
    "    disable_env_checker=True,\n",
    ")"
   ]
  },
  {
   "cell_type": "code",
   "execution_count": null,
   "id": "34eaee70e65df757",
   "metadata": {
    "collapsed": false,
    "jupyter": {
     "outputs_hidden": false
    }
   },
   "outputs": [],
   "source": [
    "set_seed(42)"
   ]
  },
  {
   "cell_type": "code",
   "execution_count": 3,
   "id": "97f95c0e",
   "metadata": {},
   "outputs": [],
   "source": [
    "env_cfg = dict(\n",
    "    id=\"MultiDatasetDiscretedTradingEnv\",\n",
    "    dataset_dir=\"./data/train/day/**/**/*.pkl\",\n",
    "    preprocess=only_sub_indicators,\n",
    "    reward_function=refined_pnl,\n",
    "    positions=[-5, -2, 0, 2, 5],\n",
    "    trading_fees=0.0001,\n",
    "    borrow_interest_rate=0.0003,\n",
    "    portfolio_initial_value=100,\n",
    "    max_episode_duration=\"max\",  # 24 * 60,\n",
    "    verbose=1,\n",
    "    window_size=120,\n",
    ")"
   ]
  },
  {
   "cell_type": "code",
   "execution_count": 4,
   "id": "9838c2e1",
   "metadata": {},
   "outputs": [],
   "source": [
    "env = gym.make(**env_cfg)\n",
    "obs = env.observation_space"
   ]
  },
  {
   "cell_type": "code",
   "execution_count": 5,
   "id": "3a91dbf0",
   "metadata": {},
   "outputs": [],
   "source": [
    "env = gym.make_vec(\n",
    "    vectorization_mode=\"sync\",\n",
    "    num_envs=16,\n",
    "    wrappers=[gym.wrappers.FlattenObservation],\n",
    "    **env_cfg,\n",
    ")"
   ]
  },
  {
   "cell_type": "code",
   "execution_count": null,
   "id": "982d6eaf",
   "metadata": {},
   "outputs": [],
   "source": [
    "env = wrap_env(env, wrapper=\"gymnasium\")"
   ]
  },
  {
   "cell_type": "code",
   "execution_count": 7,
   "id": "3eb84657",
   "metadata": {},
   "outputs": [],
   "source": [
    "device = env.device\n",
    "replay_buffer_size = 1024 * 4 * env.num_envs\n",
    "memory_size = int(replay_buffer_size / env.num_envs)\n",
    "memory = RandomMemory(memory_size=memory_size, num_envs=env.num_envs, device=device, replacement=False)"
   ]
  },
  {
   "cell_type": "code",
   "execution_count": 8,
   "id": "113c3a86",
   "metadata": {},
   "outputs": [],
   "source": [
    "import torch.nn as nn\n",
    "from skrl.models.torch import DeterministicMixin, CategoricalMixin, Model\n",
    "from skrl.utils.spaces.torch import unflatten_tensorized_space\n",
    "\n",
    "\n",
    "class Shared(CategoricalMixin, DeterministicMixin, Model):\n",
    "    def __init__(self, observation_space, action_space, device, clip_actions=False, unnormalized_log_prob=True):\n",
    "        Model.__init__(self, observation_space, action_space, device)\n",
    "        CategoricalMixin.__init__(self, unnormalized_log_prob)\n",
    "        DeterministicMixin.__init__(self, clip_actions)\n",
    "\n",
    "        self.net = nn.Sequential(\n",
    "            nn.Linear(256 + 5, 128),\n",
    "            nn.BatchNorm1d(128),\n",
    "            nn.ELU(),\n",
    "            nn.Dropout(0.2),\n",
    "\n",
    "            nn.Linear(128, 32),\n",
    "            nn.BatchNorm1d(32),\n",
    "            nn.ELU(),\n",
    "            nn.Dropout(0.2),\n",
    "        )\n",
    "\n",
    "        self.net_features = nn.Sequential(\n",
    "            nn.Conv1d(120, 64, kernel_size=3, stride=1, padding=1),\n",
    "            nn.BatchNorm1d(64),\n",
    "            nn.ReLU(),\n",
    "            nn.Dropout(0.2),\n",
    "            nn.Conv1d(64, 64, kernel_size=3, stride=1, padding=1),\n",
    "            nn.BatchNorm1d(64),\n",
    "            nn.ReLU(),\n",
    "            nn.Dropout(0.2),\n",
    "            nn.Conv1d(64, 32, kernel_size=3, stride=1),\n",
    "            nn.ReLU(),\n",
    "            nn.Flatten(),\n",
    "        )\n",
    "\n",
    "        self.mean_layer = nn.Linear(32, self.num_actions)\n",
    "        self.log_std_parameter = nn.Parameter(torch.zeros(self.num_actions))\n",
    "\n",
    "        self.value_layer = nn.Linear(32, 1)\n",
    "\n",
    "    def act(self, inputs, role):\n",
    "        if role == \"policy\":\n",
    "            return CategoricalMixin.act(self, inputs, role)\n",
    "        elif role == \"value\":\n",
    "            return DeterministicMixin.act(self, inputs, role)\n",
    "\n",
    "    def compute(self, inputs, role):\n",
    "        states = unflatten_tensorized_space(obs, inputs[\"states\"])\n",
    "\n",
    "        features = self.net_features(states[\"features\"])\n",
    "        values = torch.cat((features, states[\"equity\"],states[\"total_ROE\"],states[\"PNL\"],states[\"ROE\"],states[\"entry_price\"]), dim=1)\n",
    "\n",
    "        if role == \"policy\":\n",
    "            self._shared_output = self.net(values)\n",
    "            action = self.mean_layer(self._shared_output)\n",
    "            return action, {}\n",
    "        elif role == \"value\":\n",
    "            shared_output = self.net(values) if self._shared_output is None else self._shared_output\n",
    "            self._shared_output = None\n",
    "            value = self.value_layer(shared_output)\n",
    "            return value, {}\n",
    "\n"
   ]
  },
  {
   "cell_type": "code",
   "execution_count": 9,
   "id": "f557769b",
   "metadata": {},
   "outputs": [],
   "source": [
    "models = {}\n",
    "models[\"policy\"] = Shared(env.observation_space, env.action_space, device)\n",
    "models[\"value\"] = models[\"policy\"]\n",
    "\n",
    "# initialize models' parameters (weights and biases)\n",
    "for model in models.values():\n",
    "    model.init_parameters(method_name=\"normal_\", mean=0.0, std=0.1)"
   ]
  },
  {
   "cell_type": "code",
   "execution_count": 10,
   "id": "937d3fe4",
   "metadata": {},
   "outputs": [],
   "source": [
    "from skrl.agents.torch.ppo import PPO_DEFAULT_CONFIG\n",
    "\n",
    "timesteps = 1000000\n",
    "cfg = PPO_DEFAULT_CONFIG.copy()\n",
    "cfg[\"rollouts\"] = memory_size\n",
    "cfg[\"learning_epochs\"] = 4\n",
    "cfg[\"mini_batches\"] = 4\n",
    "cfg[\"discount_factor\"] = 0.95\n",
    "cfg[\"lambda\"] = 0.95\n",
    "cfg[\"policy_learning_rate\"] = 1e-4\n",
    "cfg[\"value_learning_rate\"] = 1e-4\n",
    "cfg[\"grad_norm_clip\"] = 1.0\n",
    "cfg[\"ratio_clip\"] = 0.2\n",
    "cfg[\"value_clip\"] = 0.2\n",
    "cfg[\"clip_predicted_values\"] = False\n",
    "cfg[\"entropy_loss_scale\"] = 0.0\n",
    "cfg[\"value_loss_scale\"] = 0.5\n",
    "cfg[\"kl_threshold\"] = 0\n",
    "cfg[\"optimizer\"] = torch.optim.AdamW(models[\"policy\"].parameters(), lr=1e-4)\n",
    "cfg[\"learning_starts\"] = 0\n",
    "cfg[\"learning_rate_scheduler\"] = torch.optim.lr_scheduler.OneCycleLR\n",
    "cfg[\"learning_rate_scheduler_kwargs\"] = {\n",
    "    \"max_lr\": 5e-4, \n",
    "    \"total_steps\": timesteps,\n",
    "}\n",
    "\n",
    "# logging to TensorBoard and write checkpoints (in timesteps)\n",
    "cfg[\"experiment\"][\"write_interval\"] = 1024\n",
    "cfg[\"experiment\"][\"checkpoint_interval\"] = 100000\n",
    "cfg[\"experiment\"][\"directory\"] = \"runs/torch/Trading\""
   ]
  },
  {
   "cell_type": "code",
   "execution_count": 11,
   "id": "92829202",
   "metadata": {},
   "outputs": [],
   "source": [
    "from skrl.agents.torch.ppo import PPO\n",
    "import warnings\n",
    "\n",
    "warnings.simplefilter(action='ignore', category=FutureWarning)\n",
    "warnings.simplefilter(action='ignore', category=DeprecationWarning)\n",
    "\n",
    "agent = PPO(\n",
    "    models=models,\n",
    "    memory=memory,\n",
    "    cfg=cfg,\n",
    "    observation_space=env.observation_space,\n",
    "    action_space=env.action_space,\n",
    "    device=device,\n",
    ")"
   ]
  },
  {
   "cell_type": "code",
   "execution_count": 12,
   "id": "3f7ac080",
   "metadata": {},
   "outputs": [],
   "source": [
    "cfg_trainer = {\"timesteps\": timesteps, \"headless\": True}\n",
    "trainer = SequentialTrainer(cfg=cfg_trainer, env=env, agents=[agent])"
   ]
  },
  {
   "cell_type": "code",
   "execution_count": null,
   "id": "96f974dd",
   "metadata": {},
   "outputs": [],
   "source": [
    "trainer.train()"
   ]
  },
  {
   "cell_type": "code",
   "execution_count": null,
   "id": "e0ac259b",
   "metadata": {},
   "outputs": [],
   "source": [
    "terminated = False\n",
    "observation, info = env.reset()\n",
    "\n",
    "while terminated:\n",
    "    # state-preprocessor + policy\n",
    "    with torch.no_grad():\n",
    "        states = state_preprocessor(states)\n",
    "        actions = policy.act({\"states\": states})[0]\n",
    "\n",
    "    # step the environment\n",
    "    next_states, rewards, terminated, truncated, infos = env.step(actions)\n",
    "\n",
    "    # render the environment\n",
    "    env.render()\n",
    "\n",
    "    # check for termination/truncation\n",
    "    if terminated.any() or truncated.any():\n",
    "        states, infos = env.reset()\n",
    "    else:\n",
    "        states = next_states"
   ]
  }
 ],
 "metadata": {
  "kernelspec": {
   "display_name": ".venv",
   "language": "python",
   "name": "python3"
  },
  "language_info": {
   "codemirror_mode": {
    "name": "ipython",
    "version": 3
   },
   "file_extension": ".py",
   "mimetype": "text/x-python",
   "name": "python",
   "nbconvert_exporter": "python",
   "pygments_lexer": "ipython3",
   "version": "3.12.4"
  }
 },
 "nbformat": 4,
 "nbformat_minor": 5
}
