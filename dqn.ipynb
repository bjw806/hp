{
 "cells": [
  {
   "cell_type": "code",
   "execution_count": 1,
   "id": "initial_id",
   "metadata": {
    "ExecuteTime": {
     "end_time": "2024-03-14T06:30:53.295303400Z",
     "start_time": "2024-03-14T06:30:47.841350100Z"
    }
   },
   "outputs": [
    {
     "name": "stderr",
     "output_type": "stream",
     "text": [
      "\u001b[38;20m[skrl:INFO] Seed: 42\u001b[0m\n"
     ]
    }
   ],
   "source": [
    "import gymnasium as gym\n",
    "import torch\n",
    "from skrl.envs.wrappers.torch import wrap_env\n",
    "from skrl.memories.torch import RandomMemory\n",
    "from skrl.trainers.torch import SequentialTrainer\n",
    "from skrl.utils import set_seed\n",
    "from reward import refined_pnl, simple_reward\n",
    "from preprocess import preprocess\n",
    "from lr_schedulers import CosineAnnealingWarmUpRestarts\n",
    "\n",
    "set_seed(42)\n",
    "\n",
    "gym.register(\n",
    "    id=\"MultiDatasetDiscretedTradingEnv\",\n",
    "    entry_point=\"environment:MultiDatasetDiscretedTradingEnv\",\n",
    "    disable_env_checker=True,\n",
    ")"
   ]
  },
  {
   "cell_type": "code",
   "execution_count": 2,
   "id": "97f95c0e",
   "metadata": {},
   "outputs": [],
   "source": [
    "env_cfg = dict(\n",
    "    id=\"MultiDatasetDiscretedTradingEnv\",\n",
    "    dataset_dir=\"./data/train/month_15m/**/**/*.pkl\",\n",
    "    preprocess=preprocess,\n",
    "    reward_function=simple_reward,\n",
    "    positions=[-20, -5, -2, 2, 5, 20],\n",
    "    trading_fees=0.0001,\n",
    "    borrow_interest_rate=0.0003,\n",
    "    portfolio_initial_value=100,\n",
    "    max_episode_duration=\"max\",  # 24 * 60,\n",
    "    verbose=0,\n",
    "    window_size=4*24*3,\n",
    ")"
   ]
  },
  {
   "cell_type": "code",
   "execution_count": 3,
   "id": "3a91dbf0",
   "metadata": {},
   "outputs": [
    {
     "name": "stderr",
     "output_type": "stream",
     "text": [
      "\u001b[38;20m[skrl:INFO] Environment wrapper: gymnasium\u001b[0m\n"
     ]
    }
   ],
   "source": [
    "obs = gym.make(**env_cfg).observation_space\n",
    "env = gym.make_vec(\n",
    "    vectorization_mode=\"sync\",\n",
    "    num_envs=32,\n",
    "    wrappers=[gym.wrappers.FlattenObservation],\n",
    "    **env_cfg,\n",
    ")\n",
    "env = wrap_env(env, wrapper=\"gymnasium\")"
   ]
  },
  {
   "cell_type": "code",
   "execution_count": 4,
   "id": "3eb84657",
   "metadata": {},
   "outputs": [],
   "source": [
    "device = env.device\n",
    "replay_buffer_size = 1024 * 24 * env.num_envs\n",
    "memory_size = int(replay_buffer_size / env.num_envs)\n",
    "memory = RandomMemory(memory_size=memory_size, num_envs=env.num_envs, device=device, replacement=False)"
   ]
  },
  {
   "cell_type": "code",
   "execution_count": 5,
   "id": "113c3a86",
   "metadata": {},
   "outputs": [],
   "source": [
    "import torch.nn as nn\n",
    "from skrl.models.torch import DeterministicMixin, CategoricalMixin, Model\n",
    "from skrl.utils.spaces.torch import unflatten_tensorized_space\n",
    "\n",
    "\n",
    "class Shared(CategoricalMixin, DeterministicMixin, Model):\n",
    "    def __init__(\n",
    "        self,\n",
    "        observation_space,\n",
    "        action_space,\n",
    "        device,\n",
    "        clip_actions=False,\n",
    "        unnormalized_log_prob=True,\n",
    "    ):\n",
    "        Model.__init__(self, observation_space, action_space, device)\n",
    "        CategoricalMixin.__init__(self, unnormalized_log_prob)\n",
    "        DeterministicMixin.__init__(self, clip_actions)\n",
    "\n",
    "        self.net = nn.Sequential(\n",
    "            nn.Linear(97, 128),\n",
    "            nn.BatchNorm1d(128),\n",
    "            nn.ELU(),\n",
    "            nn.Dropout(0.2),\n",
    "            nn.Linear(128, 32),\n",
    "            nn.BatchNorm1d(32),\n",
    "            nn.ELU(),\n",
    "            nn.Dropout(0.2),\n",
    "        )\n",
    "\n",
    "        self.net_features = nn.Sequential(\n",
    "            nn.Conv1d(env_cfg[\"window_size\"], 128, kernel_size=3, stride=1, padding=1),\n",
    "            nn.BatchNorm1d(128),\n",
    "            nn.ReLU(),\n",
    "            nn.Dropout(0.2),\n",
    "            nn.Conv1d(128, 64, kernel_size=3, stride=1, padding=1),\n",
    "            nn.BatchNorm1d(64),\n",
    "            nn.ReLU(),\n",
    "            nn.Dropout(0.2),\n",
    "            nn.Conv1d(64, 32, kernel_size=3, stride=1),\n",
    "            nn.ReLU(),\n",
    "            nn.Flatten(),\n",
    "        )\n",
    "\n",
    "        self.mean_layer = nn.Sequential(\n",
    "            nn.Linear(32, self.num_actions),\n",
    "            nn.Softmax(1)\n",
    "        )\n",
    "        self.log_std_parameter = nn.Parameter(torch.zeros(self.num_actions))\n",
    "\n",
    "        self.value_layer = nn.Linear(32, 1)\n",
    "\n",
    "    def act(self, inputs, role):\n",
    "        if role == \"policy\":\n",
    "            return CategoricalMixin.act(self, inputs, role)\n",
    "        elif role == \"value\":\n",
    "            return DeterministicMixin.act(self, inputs, role)\n",
    "\n",
    "    def compute(self, inputs, role):\n",
    "        states = unflatten_tensorized_space(obs, inputs[\"states\"])\n",
    "        \n",
    "        features = self.net_features(states[\"features\"])\n",
    "        values = torch.cat(\n",
    "            (\n",
    "                features,\n",
    "                states[\"position\"],\n",
    "            ),\n",
    "            dim=1,\n",
    "        )\n",
    "\n",
    "        if role == \"policy\":\n",
    "            self._shared_output = self.net(values)\n",
    "            action = self.mean_layer(self._shared_output)\n",
    "            return action, {}\n",
    "        elif role == \"value\":\n",
    "            shared_output = (\n",
    "                self.net(values) if self._shared_output is None else self._shared_output\n",
    "            )\n",
    "            self._shared_output = None\n",
    "            value = self.value_layer(shared_output)\n",
    "            return value, {}"
   ]
  },
  {
   "cell_type": "code",
   "execution_count": 6,
   "id": "f557769b",
   "metadata": {},
   "outputs": [],
   "source": [
    "models = {}\n",
    "models[\"policy\"] = Shared(env.observation_space, env.action_space, device)\n",
    "models[\"value\"] = models[\"policy\"]\n",
    "\n",
    "# initialize models' parameters (weights and biases)\n",
    "for model in models.values():\n",
    "    model.init_parameters(method_name=\"normal_\", mean=0.0, std=0.1)"
   ]
  },
  {
   "cell_type": "code",
   "execution_count": null,
   "id": "937d3fe4",
   "metadata": {},
   "outputs": [],
   "source": [
    "from skrl.agents.torch.ppo import PPO_DEFAULT_CONFIG\n",
    "\n",
    "timesteps = 1000000\n",
    "cfg = PPO_DEFAULT_CONFIG.copy()\n",
    "cfg[\"rollouts\"] = memory_size\n",
    "cfg[\"learning_epochs\"] = 64\n",
    "cfg[\"mini_batches\"] = 4\n",
    "cfg[\"discount_factor\"] = 0.99\n",
    "# cfg[\"lambda\"] = 0.95\n",
    "cfg[\"learning_rate\"] = 0\n",
    "# cfg[\"grad_norm_clip\"] = 1.0\n",
    "# cfg[\"ratio_clip\"] = 0.2\n",
    "# cfg[\"value_clip\"] = 0.2\n",
    "# cfg[\"clip_predicted_values\"] = False\n",
    "# cfg[\"entropy_loss_scale\"] = 0.0\n",
    "# cfg[\"value_loss_scale\"] = 0.5\n",
    "# cfg[\"optimizer\"] = torch.optim.AdamW(models[\"policy\"].parameters(), lr=1e-5)\n",
    "cfg[\"learning_starts\"] = 0\n",
    "cfg[\"learning_rate_scheduler\"] = CosineAnnealingWarmUpRestarts\n",
    "cfg[\"learning_rate_scheduler_kwargs\"] = {\n",
    "    \"T_0\": 16 * cfg[\"learning_epochs\"],  # 첫 주기의 길이\n",
    "    \"T_mult\": 2,  # 매 주기마다 주기의 길이를 두배로 늘림\n",
    "    \"T_up\": cfg[\"learning_epochs\"],  # warm-up 주기\n",
    "    \"eta_max\": 1e-3,  # 최대 학습률\n",
    "    \"gamma\": 0.6,  # 학습률 감소율\n",
    "}\n",
    "\n",
    "# logging to TensorBoard and write checkpoints (in timesteps)\n",
    "cfg[\"experiment\"][\"write_interval\"] = 1024 * 16\n",
    "cfg[\"experiment\"][\"checkpoint_interval\"] = 1000000\n",
    "cfg[\"experiment\"][\"directory\"] = \"runs/torch/mddt\""
   ]
  },
  {
   "cell_type": "code",
   "execution_count": 8,
   "id": "92829202",
   "metadata": {},
   "outputs": [],
   "source": [
    "import warnings\n",
    "from skrl.agents.torch.ppo import PPO\n",
    "\n",
    "warnings.simplefilter(action='ignore', category=FutureWarning)\n",
    "warnings.simplefilter(action='ignore', category=DeprecationWarning)\n",
    "\n",
    "agent = PPO(\n",
    "    models=models,\n",
    "    memory=memory,\n",
    "    cfg=cfg,\n",
    "    observation_space=env.observation_space,\n",
    "    action_space=env.action_space,\n",
    "    device=device,\n",
    ")\n",
    "cfg_trainer = {\"timesteps\": timesteps, \"headless\": True, \"environment_info\": \"pc_counter\"}\n",
    "trainer = SequentialTrainer(cfg=cfg_trainer, env=env, agents=[agent])\n",
    "# agent.track_data(\"Episode/Position changed\")"
   ]
  },
  {
   "cell_type": "code",
   "execution_count": null,
   "id": "96f974dd",
   "metadata": {},
   "outputs": [
    {
     "name": "stdout",
     "output_type": "stream",
     "text": [
      " 37%|███▋      | 368120/1000000 [23:40<24:15, 434.13it/s]  "
     ]
    }
   ],
   "source": [
    "trainer.train()"
   ]
  },
  {
   "cell_type": "code",
   "execution_count": null,
   "id": "e0ac259b",
   "metadata": {},
   "outputs": [],
   "source": [
    "terminated = False\n",
    "observation, info = env.reset()\n",
    "\n",
    "while terminated:\n",
    "    # state-preprocessor + policy\n",
    "    with torch.no_grad():\n",
    "        states = state_preprocessor(states)\n",
    "        actions = policy.act({\"states\": states})[0]\n",
    "\n",
    "    # step the environment\n",
    "    next_states, rewards, terminated, truncated, infos = env.step(actions)\n",
    "\n",
    "    # render the environment\n",
    "    env.render()\n",
    "\n",
    "    # check for termination/truncation\n",
    "    if terminated.any() or truncated.any():\n",
    "        states, infos = env.reset()\n",
    "    else:\n",
    "        states = next_states"
   ]
  }
 ],
 "metadata": {
  "kernelspec": {
   "display_name": ".venv",
   "language": "python",
   "name": "python3"
  },
  "language_info": {
   "codemirror_mode": {
    "name": "ipython",
    "version": 3
   },
   "file_extension": ".py",
   "mimetype": "text/x-python",
   "name": "python",
   "nbconvert_exporter": "python",
   "pygments_lexer": "ipython3",
   "version": "3.10.12"
  }
 },
 "nbformat": 4,
 "nbformat_minor": 5
}
