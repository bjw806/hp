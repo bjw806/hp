{
 "cells": [
  {
   "cell_type": "code",
   "execution_count": null,
   "id": "initial_id",
   "metadata": {
    "ExecuteTime": {
     "end_time": "2024-03-14T06:30:53.295303400Z",
     "start_time": "2024-03-14T06:30:47.841350100Z"
    }
   },
   "outputs": [],
   "source": [
    "import gymnasium as gym\n",
    "from reward import refined_pnl\n",
    "from preprocess import preprocess\n",
    "\n",
    "gym.register(\n",
    "    id=\"MultiDatasetDiscretedTradingEnv\",\n",
    "    entry_point=\"manual_env:MultiDatasetDiscretedTradingEnv\",\n",
    "    disable_env_checker=True,\n",
    ")"
   ]
  },
  {
   "cell_type": "code",
   "execution_count": null,
   "id": "97f95c0e",
   "metadata": {},
   "outputs": [],
   "source": [
    "env_cfg = dict(\n",
    "    id=\"MultiDatasetDiscretedTradingEnv\",\n",
    "    dataset_dir=\"./15m/*.pkl\",\n",
    "    preprocess=preprocess,\n",
    "    reward_function=refined_pnl,\n",
    "    positions=[-3, 0, 3],\n",
    "    trading_fees=0.0001,\n",
    "    borrow_interest_rate=0.0003,\n",
    "    portfolio_initial_value=100,\n",
    "    max_episode_duration=\"max\",  # 24 * 60,\n",
    "    verbose=1,\n",
    "    window_size=120,\n",
    "    initial_position=0,\n",
    ")\n",
    "env = gym.make(**env_cfg)"
   ]
  },
  {
   "cell_type": "code",
   "execution_count": null,
   "id": "3a91dbf0",
   "metadata": {},
   "outputs": [],
   "source": [
    "\"\"\"\n",
    "{'PNL': 0,\n",
    " 'ROE': 0,\n",
    " 'data_RSI_6': 65.32,\n",
    " 'data_close': 7818.0,\n",
    " 'data_date_close': Timestamp('2018-07-31 17:07:00'),\n",
    " 'data_high': 7823.94,\n",
    " 'data_low': 7815.0,\n",
    " 'data_open': 7820.0,\n",
    " 'data_volume': 44.05,\n",
    " 'date': np.datetime64('2018-07-31T17:06:00.000000000'),\n",
    " 'entry_price': np.float64(7818.0),\n",
    " 'entry_valuation': 100.0,\n",
    " 'idx': 119,\n",
    " 'last_position_changed_idx': 0,\n",
    " 'portfolio_distribution_asset': 0,\n",
    " 'portfolio_distribution_borrowed_asset': 0,\n",
    " 'portfolio_distribution_borrowed_fiat': 0,\n",
    " 'portfolio_distribution_fiat': 100.0,\n",
    " 'portfolio_distribution_interest_asset': 0,\n",
    " 'portfolio_distribution_interest_fiat': 0,\n",
    " 'portfolio_valuation': 100.0,\n",
    " 'position': 0,\n",
    " 'position_index': 1,\n",
    " 'prev_position_valuation': 100.0,\n",
    " 'real_position': 0,\n",
    " 'reward': 0,\n",
    " 'step': 0}\n",
    "\"\"\"\n"
   ]
  },
  {
   "cell_type": "code",
   "execution_count": null,
   "id": "e0ac259b",
   "metadata": {},
   "outputs": [],
   "source": [
    "# Run an episode until it ends :\n",
    "done, truncated = False, False\n",
    "observation, info = env.reset()\n",
    "\n",
    "while not done and not truncated:\n",
    "    ROE = info[\"ROE\"]\n",
    "    PNL = info[\"PNL\"]\n",
    "    RSI_6 = info[\"data_RSI_6\"]\n",
    "    position = info[\"position\"]\n",
    "    position_index = info[\"position_index\"]\n",
    "    \n",
    "    if position == 0:\n",
    "        if RSI_6 > 75:\n",
    "            position_index = 0\n",
    "        elif RSI_6 < 25:\n",
    "            position_index = 2\n",
    "    else:\n",
    "        if ROE > 0.1 or ROE < -0.2: # Take Profit # Stop Loss\n",
    "            position_index = 1\n",
    "        else:\n",
    "            # position_index = 1\n",
    "            pass\n",
    "\n",
    "    observation, reward, done, truncated, info = env.step(position_index)"
   ]
  },
  {
   "cell_type": "code",
   "execution_count": null,
   "id": "0ec30f13",
   "metadata": {},
   "outputs": [],
   "source": [
    "env.env.save_for_render(dir = \"render_logs\")\n"
   ]
  },
  {
   "cell_type": "code",
   "execution_count": null,
   "id": "51302428",
   "metadata": {},
   "outputs": [],
   "source": [
    "def RSI(df, periods=6):\n",
    "    close_delta = df.close.diff()\n",
    "    up = close_delta.clip(lower=0)\n",
    "    down = -1 * close_delta.clip(upper=0)\n",
    "    ma_up = up.ewm(com=periods - 1, adjust=True, min_periods=periods).mean()\n",
    "    ma_down = down.ewm(com=periods - 1, adjust=True, min_periods=periods).mean()\n",
    "\n",
    "    _rsi = ma_up / ma_down\n",
    "    return (100 - (100 / (1 + _rsi))).astype(float).round(2)"
   ]
  },
  {
   "cell_type": "code",
   "execution_count": null,
   "id": "af5dc5b4",
   "metadata": {},
   "outputs": [],
   "source": [
    "from gym_trading_env.renderer import Renderer\n",
    "renderer = Renderer(render_logs_dir=\"render_logs\")\n",
    "# renderer.add_line(name= \"RSI_6\", function=RSI, line_options ={\"width\" : 1, \"color\": \"blue\"})\n",
    "renderer.run()"
   ]
  }
 ],
 "metadata": {
  "kernelspec": {
   "display_name": ".venv",
   "language": "python",
   "name": "python3"
  },
  "language_info": {
   "codemirror_mode": {
    "name": "ipython",
    "version": 3
   },
   "file_extension": ".py",
   "mimetype": "text/x-python",
   "name": "python",
   "nbconvert_exporter": "python",
   "pygments_lexer": "ipython3",
   "version": "3.12.2"
  }
 },
 "nbformat": 4,
 "nbformat_minor": 5
}
